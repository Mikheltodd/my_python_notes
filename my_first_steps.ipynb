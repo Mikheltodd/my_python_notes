{
 "cells": [
  {
   "cell_type": "markdown",
   "id": "58816bdb",
   "metadata": {},
   "source": [
    "# My First Steps"
   ]
  },
  {
   "cell_type": "markdown",
   "id": "359c36fc",
   "metadata": {},
   "source": [
    "Anotaciones previas:\n",
    "\n",
    "## Bash:\n",
    "\n",
    "- `ls`: listar\n",
    "- `mkdir`: crear directorio\n",
    "- `cd`: cambiar directorio\n",
    "- `echo`: crear archivo\n",
    "\n",
    "- `cat`: leer archivo"
   ]
  },
  {
   "cell_type": "markdown",
   "id": "8d5e893e",
   "metadata": {},
   "source": [
    "## Encabezados\n",
    "\n",
    "Se crean con `#` y hay 6 niveles.\n",
    "\n",
    "### Título 3\n",
    "#### Título 4\n",
    "##### Título 5"
   ]
  },
  {
   "cell_type": "markdown",
   "id": "cfa57282",
   "metadata": {},
   "source": [
    "## Estilos\n",
    "\n",
    "***\n",
    "*Me gusta* cuando callas porque _estás como ausente_, <br>\n",
    "y me **oyes** desde lejos, y mi __voz__ no te toca.<br>\n",
    "***\n",
    "Parece que los `ojos` se te hubieran volado <br>\n",
    "y parece que un beso te cerrara la boca.\n",
    "<br>\n",
    "```python\n",
    "x = 3\n",
    "y = x + 2\n",
    "print(y)\n",
    "```\n",
    "\n",
    "> Esta es una citación:\n",
    "> Me gusta* cuando callas porque _estás como ausente_\n"
   ]
  },
  {
   "cell_type": "markdown",
   "id": "d73f212e",
   "metadata": {},
   "source": [
    "## Listas\n",
    "\n",
    "#### Lista de Compras\n",
    "- Pan\n",
    "- Leche\n",
    "- Huevos\n",
    "    - AA x30\n",
    "    - AAA x12\n",
    "\n",
    "#### Lista de Herramientas\n",
    "* Alicate\n",
    "* Destornillador\n",
    "* Segueta\n",
    "\n",
    "#### Receta para el Arroz\n",
    "1. Ponga una olla a fuego bajo\n",
    "2. Agregue x cantidad de agua\n",
    "3. Agregue x/2 cantidad de arroz\n",
    "    1. Agregue sal al gusto\n",
    "    2. Agregue aceite"
   ]
  },
  {
   "cell_type": "code",
   "execution_count": null,
   "id": "9cb27158",
   "metadata": {},
   "outputs": [],
   "source": []
  },
  {
   "cell_type": "markdown",
   "id": "db23c359",
   "metadata": {},
   "source": [
    "## Imágenes y Enlaces\n",
    "\n",
    "\n",
    "`![alt_text](img/zoro.jpg)`<br>\n",
    "<img src=\"img/zoro.jpg\" alt=\"dibujo\" style=\"max-height:300px\">\n",
    "\n",
    "`[Ir a google](https://www.google.com/)`<br>\n",
    "<a href=\"https://www.google.com/\">Ir a Google<a/>\n",
    "    \n",
    "[Ir a estilos](#Estilos)\n",
    "<br>\n",
    "[Ir a encabezados](#Encabezados)"
   ]
  },
  {
   "cell_type": "markdown",
   "id": "b6f38ac1",
   "metadata": {},
   "source": [
    "## LaTeX\n",
    "\n",
    "Quiero representar la ecuación $y = mx + b$:\n",
    "<br>\n",
    "$$y = mx + b$$\n",
    "<br>\n",
    "$$\\eta = \\frac{P_{out}}{P_{in}}$$\n",
    "<br>\n",
    "$$\\sum_{i = 1}^{\\infty}{\\frac{1}{i}}$$\n",
    "\n",
    "$$e^{-jx} = \\cos{x} - j\\sin{x}$$\n",
    "\n",
    "$$\\sqrt{a^2 + b^2}$$\n",
    "\n",
    "$\\alpha, \\beta, \\gamma$"
   ]
  },
  {
   "cell_type": "markdown",
   "id": "52ee0ff3",
   "metadata": {},
   "source": [
    "# Python"
   ]
  },
  {
   "cell_type": "markdown",
   "id": "6a365611",
   "metadata": {},
   "source": [
    "## Comentarios\n",
    "\n",
    "Código que no se ejecuta. `#`\n",
    "- Contexto\n",
    "- Legibilidad\n",
    "- Pruebas"
   ]
  },
  {
   "cell_type": "code",
   "execution_count": 12,
   "id": "ee7b0437",
   "metadata": {},
   "outputs": [],
   "source": [
    "# Este es un comentario en Python"
   ]
  },
  {
   "cell_type": "markdown",
   "id": "d377b6fe",
   "metadata": {},
   "source": [
    "## Print\n",
    "Mostrar en consola\n",
    "`print()`"
   ]
  },
  {
   "cell_type": "code",
   "execution_count": 13,
   "id": "6ed2dfee",
   "metadata": {},
   "outputs": [
    {
     "name": "stdout",
     "output_type": "stream",
     "text": [
      "Hola Mundo\n",
      "This is a 'test'\n",
      "This is a \"test\"\n"
     ]
    }
   ],
   "source": [
    "print(\"Hola Mundo\")\n",
    "print(\"This is a 'test'\")\n",
    "print(\"This is a \\\"test\\\"\")"
   ]
  },
  {
   "cell_type": "markdown",
   "id": "28b76df7",
   "metadata": {},
   "source": [
    "## Strings\n",
    "Se crean con `' '` o `\" \"`."
   ]
  },
  {
   "cell_type": "code",
   "execution_count": 14,
   "id": "3dd8309f",
   "metadata": {},
   "outputs": [
    {
     "name": "stdout",
     "output_type": "stream",
     "text": [
      "<class 'str'>\n",
      "<class 'str'>\n"
     ]
    }
   ],
   "source": [
    "a = 'perro'\n",
    "b = \"gato\"\n",
    "print(type(a))\n",
    "print(type(b))"
   ]
  },
  {
   "cell_type": "markdown",
   "id": "af2f0d47",
   "metadata": {},
   "source": [
    "## Variables\n",
    "- Contenedores\n",
    "- snake_case -> python\n",
    "- camelCase -> JS"
   ]
  },
  {
   "cell_type": "markdown",
   "id": "eeaa9d97",
   "metadata": {},
   "source": [
    "## Numbers\n",
    "- int\n",
    "- float\n",
    "- operaciones: +, -, *, /, ** (potencia), % (module)"
   ]
  },
  {
   "cell_type": "code",
   "execution_count": 15,
   "id": "1f4bd6f9",
   "metadata": {},
   "outputs": [
    {
     "name": "stdout",
     "output_type": "stream",
     "text": [
      "7.5\n",
      "-1.5\n",
      "13.5\n",
      "0.6666666666666666\n",
      "140.29611541307906\n",
      "3.0\n"
     ]
    }
   ],
   "source": [
    "a = 3\n",
    "b = 4.5\n",
    "print(a + b)\n",
    "print(a - b)\n",
    "print(a * b)\n",
    "print(a / b)\n",
    "print(a ** b)\n",
    "print(a % b)"
   ]
  },
  {
   "cell_type": "code",
   "execution_count": 16,
   "id": "d6fc066c",
   "metadata": {},
   "outputs": [
    {
     "name": "stdout",
     "output_type": "stream",
     "text": [
      "2.0\n"
     ]
    }
   ],
   "source": [
    "a += 3\n",
    "a -= 5\n",
    "a *= 4\n",
    "a /= 2\n",
    "print(a)"
   ]
  },
  {
   "cell_type": "markdown",
   "id": "971f5e63",
   "metadata": {},
   "source": [
    "## Concatenate\n",
    "- Unir palabras (simplemente sumar)\n",
    "- Concatenar del mismo tipo."
   ]
  },
  {
   "cell_type": "code",
   "execution_count": 17,
   "id": "f3da5eae",
   "metadata": {},
   "outputs": [
    {
     "name": "stdout",
     "output_type": "stream",
     "text": [
      "Miguel Ortiz\n"
     ]
    }
   ],
   "source": [
    "name = \"Miguel\"\n",
    "lastname = \"Ortiz\"\n",
    "fullname = name + ' ' + lastname\n",
    "print(fullname)"
   ]
  },
  {
   "cell_type": "code",
   "execution_count": 18,
   "id": "09b835b6",
   "metadata": {},
   "outputs": [
    {
     "name": "stdout",
     "output_type": "stream",
     "text": [
      "My age is 30 years old.\n"
     ]
    }
   ],
   "source": [
    "age = 30\n",
    "opening = \"My age is \"\n",
    "ending = \" years old.\"\n",
    "full_sentence = opening + str(age) + ending\n",
    "print(full_sentence)"
   ]
  },
  {
   "cell_type": "code",
   "execution_count": 19,
   "id": "820c29d9",
   "metadata": {},
   "outputs": [
    {
     "name": "stdout",
     "output_type": "stream",
     "text": [
      "\n",
      "Me gusta cuando callas porque estás como ausente,\n",
      "y me oyes desde lejos, y mi voz no tetoca.\n",
      "Parece que los ojos se te hubieran volado\n",
      "y parece que un beso te cerrara la boca.\n",
      "\n"
     ]
    }
   ],
   "source": [
    "poem = \"\"\"\n",
    "Me gusta cuando callas porque estás como ausente,\n",
    "y me oyes desde lejos, y mi voz no tetoca.\n",
    "Parece que los ojos se te hubieran volado\n",
    "y parece que un beso te cerrara la boca.\n",
    "\"\"\"\n",
    "print(poem)"
   ]
  },
  {
   "cell_type": "code",
   "execution_count": 20,
   "id": "8ccc2894",
   "metadata": {},
   "outputs": [
    {
     "name": "stdout",
     "output_type": "stream",
     "text": [
      " -:-  -:-  -:-  -:-  -:-  -:-  -:-  -:-  -:-  -:- \n"
     ]
    }
   ],
   "source": [
    "print(\" -:- \"*10)"
   ]
  },
  {
   "cell_type": "markdown",
   "id": "5ab007fe",
   "metadata": {},
   "source": [
    "# Boolean Sentences\n",
    "- Opinión: no objetivas - varias alternativas. Ej: El helado más rico del mundo es el de chocolate. \n",
    "- Oración (sentences): dos opciones - verdadero `(True)` o falso `(False)`. La palabra \"helado\" comienza con la letra \"h\".\n",
    "- ==, !=, <, >, >=, <="
   ]
  },
  {
   "cell_type": "code",
   "execution_count": 21,
   "id": "0528501f",
   "metadata": {},
   "outputs": [
    {
     "name": "stdout",
     "output_type": "stream",
     "text": [
      "<class 'bool'>\n",
      "False\n",
      "False\n",
      "False\n"
     ]
    }
   ],
   "source": [
    "a = 1 == 0\n",
    "print(type(a))\n",
    "print(9 == '9')\n",
    "print(3 > 5)\n",
    "print(10 <= 5)"
   ]
  },
  {
   "cell_type": "markdown",
   "id": "b86632ce",
   "metadata": {},
   "source": [
    "## Condicionales\n",
    "\n",
    "```python\n",
    "# if\n",
    "if boolean_sentence:\n",
    "    action\n",
    "    \n",
    "# else\n",
    "if boolean_sentence:\n",
    "    action_1\n",
    "else:\n",
    "    action_2\n",
    "    \n",
    "# elif    \n",
    "if boolean_sentence_1:\n",
    "    action_1\n",
    "elif boolean_sentence_2:\n",
    "    action_2\n",
    "else:\n",
    "    action_3\n",
    "```\n",
    "\n"
   ]
  },
  {
   "cell_type": "code",
   "execution_count": 22,
   "id": "4d958556",
   "metadata": {},
   "outputs": [
    {
     "name": "stdout",
     "output_type": "stream",
     "text": [
      "a es mayor que b\n"
     ]
    }
   ],
   "source": [
    "a = 5\n",
    "b = 4\n",
    "if a > b:\n",
    "    print(\"a es mayor que b\")"
   ]
  },
  {
   "cell_type": "code",
   "execution_count": 23,
   "id": "c1c2b694",
   "metadata": {},
   "outputs": [
    {
     "name": "stdout",
     "output_type": "stream",
     "text": [
      "b es mayor que a\n"
     ]
    }
   ],
   "source": [
    "a = 3\n",
    "b = 4\n",
    "if a > b:\n",
    "    print(\"a es mayor que b\")\n",
    "else:\n",
    "    print(\"b es mayor que a\")"
   ]
  },
  {
   "cell_type": "code",
   "execution_count": 24,
   "id": "05d28dda",
   "metadata": {},
   "outputs": [
    {
     "name": "stdout",
     "output_type": "stream",
     "text": [
      "b es mayor que a\n"
     ]
    }
   ],
   "source": [
    "a = 3\n",
    "b = 4\n",
    "if a > b:\n",
    "    print(\"a es mayor que b\")\n",
    "else:\n",
    "    if b > a:\n",
    "        print(\"b es mayor que a\")\n",
    "    # else:\n",
    "    #    if ...."
   ]
  },
  {
   "cell_type": "code",
   "execution_count": 25,
   "id": "c0abc1bc",
   "metadata": {},
   "outputs": [
    {
     "name": "stdout",
     "output_type": "stream",
     "text": [
      "Bueno\n"
     ]
    }
   ],
   "source": [
    "grade = ''\n",
    "points = 70\n",
    "if points > 90:\n",
    "    grade = \"Excelente\"\n",
    "elif points > 75:\n",
    "    grade = \"Sobresaliente\"\n",
    "elif points > 60:\n",
    "    grade = \"Bueno\"\n",
    "elif points > 50:\n",
    "    grade = \"Regular\"\n",
    "else:\n",
    "    grade = \"Malo\"\n",
    "print(grade)"
   ]
  },
  {
   "cell_type": "markdown",
   "id": "67ac5e5d",
   "metadata": {},
   "source": [
    "## Boolean Operators\n",
    "- and: verdadero si ambas expresiones son ciertas. Falso, si no.\n",
    "- or: verdadero si por lo menos una da las sentencias es verdadera.\n",
    "- not: negar. Verdadero -> Falso; Falso -> Verdadero"
   ]
  },
  {
   "cell_type": "code",
   "execution_count": 26,
   "id": "6e2bf4e2",
   "metadata": {},
   "outputs": [
    {
     "name": "stdout",
     "output_type": "stream",
     "text": [
      "False\n",
      "True\n",
      "True\n"
     ]
    }
   ],
   "source": [
    "sentence_1 = 3 > 5\n",
    "sentence_2 = 5 == 5\n",
    "print(sentence_1 and sentence_2)\n",
    "print(sentence_1 or sentence_2)\n",
    "print(not sentence_1)"
   ]
  },
  {
   "cell_type": "markdown",
   "id": "b0ce5106",
   "metadata": {},
   "source": [
    "## User inputs\n",
    "- `input()`"
   ]
  },
  {
   "cell_type": "code",
   "execution_count": 27,
   "id": "b253957d",
   "metadata": {},
   "outputs": [
    {
     "name": "stdout",
     "output_type": "stream",
     "text": [
      "Ingrese su nombre: Miguel\n",
      "Ingrese su apellido: Ortiz\n",
      "Su nombre completo es: Miguel Ortiz\n"
     ]
    }
   ],
   "source": [
    "name = input(\"Ingrese su nombre: \")\n",
    "lastname = input(\"Ingrese su apellido: \")\n",
    "print(\"Su nombre completo es: \" + name + ' ' + lastname)"
   ]
  },
  {
   "cell_type": "code",
   "execution_count": 28,
   "id": "9d1bca5f",
   "metadata": {},
   "outputs": [
    {
     "name": "stdout",
     "output_type": "stream",
     "text": [
      "¿Cuál es tu edad? 30\n",
      "Tu año de nacimiento es el 1992\n"
     ]
    }
   ],
   "source": [
    "current_year = 2022\n",
    "age = input(\"¿Cuál es tu edad? \")\n",
    "#birth_year = current_year - int(age) # float(age)\n",
    "print(\"Tu año de nacimiento es el \" + str(current_year - int(age)))"
   ]
  },
  {
   "cell_type": "markdown",
   "id": "40b1cf83",
   "metadata": {},
   "source": [
    "## Errors\n",
    "- SyntaxError: puntos (:), paréntesis, corchete, llave\n",
    "- NameError: no se reconoce la palabra, variable sin definir, variable mal escrita\n",
    "- TypeError: operaciones con tipos inadecuados\n",
    "\n",
    "Python no decta **errores de lógica**"
   ]
  },
  {
   "cell_type": "markdown",
   "id": "23df0eb6",
   "metadata": {},
   "source": [
    "## Lists\n",
    "\n",
    "- Colección\n",
    "- Estructura de datos (primitiva)\n",
    "- Ordenada\n",
    "- Indexada cero (inicia en cero)\n",
    "- `[ , ]`"
   ]
  },
  {
   "cell_type": "code",
   "execution_count": 43,
   "id": "82275f96",
   "metadata": {},
   "outputs": [],
   "source": [
    "fruits = ['manzana', 'naranja', 'pera', 'mango', 'mandarina']\n",
    "a = ['a', 1, True, ['random', 'words']]"
   ]
  },
  {
   "cell_type": "code",
   "execution_count": 44,
   "id": "5d6dd83a",
   "metadata": {},
   "outputs": [
    {
     "name": "stdout",
     "output_type": "stream",
     "text": [
      "<class 'list'>\n",
      "['a', 1, True, ['random', 'words']]\n"
     ]
    }
   ],
   "source": [
    "print(type(fruits))\n",
    "print(a)"
   ]
  },
  {
   "cell_type": "markdown",
   "id": "60f47382",
   "metadata": {},
   "source": [
    "## Append\n",
    "- Agregar datos a una lista"
   ]
  },
  {
   "cell_type": "code",
   "execution_count": 45,
   "id": "ada9d6e0",
   "metadata": {},
   "outputs": [
    {
     "name": "stdout",
     "output_type": "stream",
     "text": [
      "['manzana', 'naranja', 'pera', 'mango', 'mandarina', 'piña']\n"
     ]
    }
   ],
   "source": [
    "fruits.append('piña')\n",
    "print(fruits)"
   ]
  },
  {
   "cell_type": "code",
   "execution_count": 46,
   "id": "41570fbb",
   "metadata": {},
   "outputs": [
    {
     "name": "stdout",
     "output_type": "stream",
     "text": [
      "[1, 2, 3, 4, 5, 6]\n"
     ]
    }
   ],
   "source": [
    "a = [1, 2, 3]\n",
    "b = [4, 5, 6]\n",
    "c = a + b\n",
    "print(c)"
   ]
  },
  {
   "cell_type": "markdown",
   "id": "f7200856",
   "metadata": {},
   "source": [
    "## Accessing Elements\n",
    "- Notación [i] -> índice.\n",
    "- Índices pueden ser positivos o negativos"
   ]
  },
  {
   "cell_type": "code",
   "execution_count": 47,
   "id": "c9cfa3a9",
   "metadata": {},
   "outputs": [
    {
     "name": "stdout",
     "output_type": "stream",
     "text": [
      "manzana\n",
      "naranja\n",
      "piña\n",
      "mandarina\n"
     ]
    }
   ],
   "source": [
    "print(fruits[0])\n",
    "print(fruits[1])\n",
    "print(fruits[-1])\n",
    "print(fruits[-2])"
   ]
  },
  {
   "cell_type": "code",
   "execution_count": 48,
   "id": "24eec933",
   "metadata": {},
   "outputs": [
    {
     "name": "stdout",
     "output_type": "stream",
     "text": [
      "['manzana', 'naranja', 'pera', 'mango', 'mandarina', 'coco']\n"
     ]
    }
   ],
   "source": [
    "fruits[-1] = 'coco'\n",
    "print(fruits)"
   ]
  },
  {
   "cell_type": "markdown",
   "id": "f75201b4",
   "metadata": {},
   "source": [
    "## Remove\n",
    "- Eliminar un elemento de la lista. \n",
    "- Valor del elemento"
   ]
  },
  {
   "cell_type": "code",
   "execution_count": 49,
   "id": "74b8c5e1",
   "metadata": {},
   "outputs": [
    {
     "name": "stdout",
     "output_type": "stream",
     "text": [
      "['manzana', 'naranja', 'mango', 'mandarina', 'coco']\n"
     ]
    }
   ],
   "source": [
    "fruits.remove('pera')\n",
    "print(fruits)"
   ]
  },
  {
   "cell_type": "code",
   "execution_count": 50,
   "id": "c46240bf",
   "metadata": {},
   "outputs": [
    {
     "name": "stdout",
     "output_type": "stream",
     "text": [
      "Tony Stark\n"
     ]
    }
   ],
   "source": [
    "superheros = [['Iron Man', 'Tony Stark'], ['Spider Man', 'Peter Parker'], ['Captain America', 'Steve Rogers']]\n",
    "name = superheros[0][1]\n",
    "print(name)"
   ]
  },
  {
   "cell_type": "markdown",
   "id": "0b259cc9",
   "metadata": {},
   "source": [
    "## Insert\n",
    "- Inserta un elemento en una lista. \n",
    "- `my_list.insert(pos, element)`"
   ]
  },
  {
   "cell_type": "code",
   "execution_count": 51,
   "id": "50b27a23",
   "metadata": {},
   "outputs": [
    {
     "data": {
      "text/plain": [
       "['manzana', 'naranja', 'mango', 'mandarina', 'coco']"
      ]
     },
     "execution_count": 51,
     "metadata": {},
     "output_type": "execute_result"
    }
   ],
   "source": [
    "fruits"
   ]
  },
  {
   "cell_type": "code",
   "execution_count": 52,
   "id": "16931cf1",
   "metadata": {},
   "outputs": [
    {
     "name": "stdout",
     "output_type": "stream",
     "text": [
      "['manzana', 'naranja', 'banana', 'mango', 'mandarina', 'coco']\n"
     ]
    }
   ],
   "source": [
    "fruits.insert(2, 'banana')\n",
    "print(fruits)"
   ]
  },
  {
   "cell_type": "code",
   "execution_count": 53,
   "id": "4b1d7b67",
   "metadata": {},
   "outputs": [
    {
     "name": "stdout",
     "output_type": "stream",
     "text": [
      "['manzana', 'naranja', 'banana', 'mango', 'fresa', 'mandarina', 'coco']\n"
     ]
    }
   ],
   "source": [
    "fruits.insert(-2, 'fresa')\n",
    "print(fruits)"
   ]
  },
  {
   "cell_type": "markdown",
   "id": "55376538",
   "metadata": {},
   "source": [
    "## Pop\n",
    "- Es similar al remove... pero utiliza índices."
   ]
  },
  {
   "cell_type": "code",
   "execution_count": 54,
   "id": "5c7622bd",
   "metadata": {},
   "outputs": [
    {
     "name": "stdout",
     "output_type": "stream",
     "text": [
      "coco\n",
      "['manzana', 'naranja', 'banana', 'mango', 'fresa', 'mandarina']\n"
     ]
    }
   ],
   "source": [
    "a = fruits.pop()\n",
    "print(a)\n",
    "print(fruits)"
   ]
  },
  {
   "cell_type": "code",
   "execution_count": 55,
   "id": "cfedcf0a",
   "metadata": {},
   "outputs": [
    {
     "name": "stdout",
     "output_type": "stream",
     "text": [
      "['manzana', 'naranja', 'banana', 'fresa', 'mandarina']\n"
     ]
    }
   ],
   "source": [
    "fruits.pop(3)\n",
    "print(fruits)"
   ]
  },
  {
   "cell_type": "markdown",
   "id": "18c78616",
   "metadata": {},
   "source": [
    "## Range & Len\n",
    "- Genera una secuencia de valores\n",
    "- El objeto generado es de tipo range, no list"
   ]
  },
  {
   "cell_type": "code",
   "execution_count": 59,
   "id": "d227ac64",
   "metadata": {},
   "outputs": [
    {
     "name": "stdout",
     "output_type": "stream",
     "text": [
      "<class 'range'>\n",
      "<class 'list'>\n",
      "[0, 1, 2, 3, 4, 5, 6, 7, 8, 9]\n"
     ]
    }
   ],
   "source": [
    "a = range(10)\n",
    "print(type(a))\n",
    "b = list(a)\n",
    "print(type(b))\n",
    "print(b)"
   ]
  },
  {
   "cell_type": "code",
   "execution_count": 60,
   "id": "ed5c2455",
   "metadata": {},
   "outputs": [
    {
     "name": "stdout",
     "output_type": "stream",
     "text": [
      "[3, 4, 5, 6, 7]\n"
     ]
    }
   ],
   "source": [
    "d = list(range(3, 8))\n",
    "print(d)"
   ]
  },
  {
   "cell_type": "code",
   "execution_count": 61,
   "id": "f16f2561",
   "metadata": {},
   "outputs": [
    {
     "name": "stdout",
     "output_type": "stream",
     "text": [
      "[1, 3, 5, 7, 9, 11, 13, 15, 17, 19]\n"
     ]
    }
   ],
   "source": [
    "e = list(range(1, 20, 2))\n",
    "print(e)"
   ]
  },
  {
   "cell_type": "code",
   "execution_count": 62,
   "id": "bcfe4847",
   "metadata": {},
   "outputs": [
    {
     "name": "stdout",
     "output_type": "stream",
     "text": [
      "10\n"
     ]
    }
   ],
   "source": [
    "len_e = len(e)\n",
    "print(len_e)"
   ]
  },
  {
   "cell_type": "code",
   "execution_count": 66,
   "id": "c8b91d4e",
   "metadata": {},
   "outputs": [
    {
     "name": "stdout",
     "output_type": "stream",
     "text": [
      "[10, 9, 8, 7, 6, 5, 4, 3, 2, 1]\n"
     ]
    }
   ],
   "source": [
    "f = list(range(10, 0, -1))\n",
    "print(f)"
   ]
  },
  {
   "cell_type": "markdown",
   "id": "b530be6b",
   "metadata": {},
   "source": [
    "## Slicing\n",
    "- Utiliza los dos puntos (:)\n",
    "- Partir la lista entre límites inferior y superior, desde el inicio hasta un índice superior, desde un índice hasta el final. "
   ]
  },
  {
   "cell_type": "code",
   "execution_count": 73,
   "id": "d629b2a0",
   "metadata": {},
   "outputs": [
    {
     "name": "stdout",
     "output_type": "stream",
     "text": [
      "['c', 'd', 'e']\n"
     ]
    }
   ],
   "source": [
    "letters = ['a', 'b', 'c', 'd', 'e', 'f', 'g']\n",
    "cde = letters[2:5]\n",
    "print(cde)"
   ]
  },
  {
   "cell_type": "code",
   "execution_count": 70,
   "id": "ce7f8e8d",
   "metadata": {},
   "outputs": [
    {
     "name": "stdout",
     "output_type": "stream",
     "text": [
      "['a', 'b', 'c']\n"
     ]
    }
   ],
   "source": [
    "first_3 = letters[:3]\n",
    "print(first_3)"
   ]
  },
  {
   "cell_type": "code",
   "execution_count": 71,
   "id": "624a962d",
   "metadata": {},
   "outputs": [
    {
     "name": "stdout",
     "output_type": "stream",
     "text": [
      "['e', 'f', 'g']\n"
     ]
    }
   ],
   "source": [
    "last_3 = letters[-3:]\n",
    "print(last_3)"
   ]
  },
  {
   "cell_type": "code",
   "execution_count": 72,
   "id": "85180c63",
   "metadata": {},
   "outputs": [
    {
     "name": "stdout",
     "output_type": "stream",
     "text": [
      "['a', 'b', 'c', 'd']\n"
     ]
    }
   ],
   "source": [
    "print(letters[:-3])"
   ]
  },
  {
   "cell_type": "markdown",
   "id": "eb73e72d",
   "metadata": {},
   "source": [
    "## Count\n",
    "- Contar la cantidad de elementos iguales al que se pasa como argumento."
   ]
  },
  {
   "cell_type": "code",
   "execution_count": 75,
   "id": "14019ecf",
   "metadata": {},
   "outputs": [
    {
     "name": "stdout",
     "output_type": "stream",
     "text": [
      "3\n",
      "0\n"
     ]
    }
   ],
   "source": [
    "nums = [1, 1, 3, 5, 6, 5, 5, 7, 8]\n",
    "fives = nums.count(5)\n",
    "twos = nums.count(2)\n",
    "print(fives)\n",
    "print(twos)"
   ]
  },
  {
   "cell_type": "markdown",
   "id": "6050d642",
   "metadata": {},
   "source": [
    "## Sorting\n",
    "- Al utilizar el método .sort() de una lista, modifico la lista\n",
    "- Al utilizar la función sorted(), creo una lista"
   ]
  },
  {
   "cell_type": "code",
   "execution_count": 82,
   "id": "6e45d2c5",
   "metadata": {},
   "outputs": [
    {
     "name": "stdout",
     "output_type": "stream",
     "text": [
      "['Jesús', 'Jeymis', 'Jimena', 'Miguel', 'Salomé', 'Santiago']\n"
     ]
    }
   ],
   "source": [
    "names = ['Salomé', 'Jesús', 'Jeymis', 'Santiago', 'Jimena', 'Miguel']\n",
    "names.sort()\n",
    "print(names)"
   ]
  },
  {
   "cell_type": "code",
   "execution_count": 83,
   "id": "9a5705d2",
   "metadata": {},
   "outputs": [
    {
     "name": "stdout",
     "output_type": "stream",
     "text": [
      "['Santiago', 'Salomé', 'Miguel', 'Jimena', 'Jeymis', 'Jesús']\n",
      "['Salomé', 'Jesús', 'Jeymis', 'Santiago', 'Jimena', 'Miguel']\n"
     ]
    }
   ],
   "source": [
    "names = ['Salomé', 'Jesús', 'Jeymis', 'Santiago', 'Jimena', 'Miguel']\n",
    "sorted_names = sorted(names, reverse=True)\n",
    "print(sorted_names)\n",
    "print(names)"
   ]
  },
  {
   "cell_type": "markdown",
   "id": "b88b30fb",
   "metadata": {},
   "source": [
    "## Tuples\n",
    "- Estructura de datos (colección)\n",
    "- Indexada cero\n",
    "- Ordenada\n",
    "- Cualquier tipo de datos\n",
    "- Datos pueden repetirse\n",
    "- `(, )`\n",
    "- Inmodificables (inmutables) -> sus valores no se pueden modificar, ni se pueden agregar o remover datos"
   ]
  },
  {
   "cell_type": "code",
   "execution_count": 84,
   "id": "1d098958",
   "metadata": {},
   "outputs": [
    {
     "name": "stdout",
     "output_type": "stream",
     "text": [
      "<class 'tuple'>\n",
      "('cat', 'dog', 'mouse')\n"
     ]
    }
   ],
   "source": [
    "animals = ('cat', 'dog', 'mouse')\n",
    "print(type(animals))\n",
    "print(animals)"
   ]
  },
  {
   "cell_type": "code",
   "execution_count": 86,
   "id": "f1f7e473",
   "metadata": {},
   "outputs": [
    {
     "data": {
      "text/plain": [
       "'cat'"
      ]
     },
     "execution_count": 86,
     "metadata": {},
     "output_type": "execute_result"
    }
   ],
   "source": [
    "animals[0]"
   ]
  },
  {
   "cell_type": "markdown",
   "id": "aa6e57f0",
   "metadata": {},
   "source": [
    "## Zip Function\n",
    "- Combinar listas"
   ]
  },
  {
   "cell_type": "code",
   "execution_count": 89,
   "id": "cb0134d3",
   "metadata": {},
   "outputs": [
    {
     "name": "stdout",
     "output_type": "stream",
     "text": [
      "[('pizza', 1.3), ('burguer', 2.5), ('hot-dog', 2), ('sandwich', 1)]\n"
     ]
    }
   ],
   "source": [
    "junk_foods = ['pizza', 'burguer', 'hot-dog', 'sandwich']\n",
    "prices = [1.3, 2.5, 2, 1]\n",
    "junk_foods_prices = list(zip(junk_foods, prices))\n",
    "print(junk_foods_prices)"
   ]
  },
  {
   "cell_type": "markdown",
   "id": "c4e2a4b9",
   "metadata": {},
   "source": [
    "## Loops (ciclos)\n",
    "- Repeticiones: start, repeat/actions, end\n",
    "- Iteraciones: definidas (# repeticiones), indefinidas (hasta que se cumpla una condición)"
   ]
  },
  {
   "cell_type": "markdown",
   "id": "6ae43e4c",
   "metadata": {},
   "source": [
    "## For\n",
    "- Iteración definida\n",
    "```python\n",
    "for <variable temporal> in <conjunto>:\n",
    "    <actions>\n",
    "```"
   ]
  },
  {
   "cell_type": "code",
   "execution_count": 5,
   "id": "a7e1acb4",
   "metadata": {},
   "outputs": [
    {
     "name": "stdout",
     "output_type": "stream",
     "text": [
      "- harina\n",
      "- huevos\n",
      "- sal\n",
      "- azúcar\n",
      "- leche\n",
      "- vainilla\n"
     ]
    }
   ],
   "source": [
    "ingredientes = ['harina', 'huevos', 'sal', 'azúcar', 'leche', 'vainilla']\n",
    "for ingrediente in ingredientes:\n",
    "    print(\"- \" + ingrediente)"
   ]
  },
  {
   "cell_type": "code",
   "execution_count": 6,
   "id": "f6b6a0f1",
   "metadata": {},
   "outputs": [
    {
     "name": "stdout",
     "output_type": "stream",
     "text": [
      "- harina\n",
      "- huevos\n",
      "- sal\n",
      "- azúcar\n",
      "- leche\n",
      "- vainilla\n"
     ]
    }
   ],
   "source": [
    "for ingrediente in ingredientes: print('- ' + ingrediente)"
   ]
  },
  {
   "cell_type": "code",
   "execution_count": 7,
   "id": "b19e77e0",
   "metadata": {},
   "outputs": [
    {
     "name": "stdout",
     "output_type": "stream",
     "text": [
      "- harina\n",
      "- huevos\n",
      "- sal\n",
      "- azúcar\n",
      "- leche\n",
      "- vainilla\n"
     ]
    }
   ],
   "source": [
    "for i in range(len(ingredientes)):\n",
    "    print('- ' + ingredientes[i])"
   ]
  },
  {
   "cell_type": "markdown",
   "id": "ddb5635f",
   "metadata": {},
   "source": [
    "## While \n",
    "- Iteración indefinida\n",
    "```python\n",
    "while <condition>:\n",
    "    <action>\n",
    "```\n",
    "- La condición debe cambiar en algún momento.\n",
    "- La condición debe ser una expresión booleana."
   ]
  },
  {
   "cell_type": "code",
   "execution_count": 12,
   "id": "d463fa01",
   "metadata": {},
   "outputs": [
    {
     "name": "stdout",
     "output_type": "stream",
     "text": [
      "Tic 1\n",
      "Tic 2\n",
      "Tic 3\n"
     ]
    }
   ],
   "source": [
    "counter = 0\n",
    "while counter < 3:\n",
    "    counter += 1\n",
    "    print(\"Tic \" + str(counter))  "
   ]
  },
  {
   "cell_type": "markdown",
   "id": "90e88e14",
   "metadata": {},
   "source": [
    "## Ciclos Infinitos"
   ]
  },
  {
   "cell_type": "code",
   "execution_count": 14,
   "id": "c05e615f",
   "metadata": {},
   "outputs": [],
   "source": [
    "#my_nums = [1, 2, 3]\n",
    "#for num in my_nums:\n",
    "#    my_nums.append(4)"
   ]
  },
  {
   "cell_type": "markdown",
   "id": "7162c890",
   "metadata": {},
   "source": [
    "## Control de Ciclos\n",
    "- break: detener el ciclo\n",
    "- continue: saltar la iteración"
   ]
  },
  {
   "cell_type": "code",
   "execution_count": 16,
   "id": "1e78cbe9",
   "metadata": {},
   "outputs": [
    {
     "name": "stdout",
     "output_type": "stream",
     "text": [
      "harina\n",
      "huevos\n",
      "sal\n"
     ]
    }
   ],
   "source": [
    "ingredientes = ['harina', 'huevos', 'sal', 'azúcar', 'leche', 'vainilla']\n",
    "for ingrediente in ingredientes:\n",
    "    print(ingrediente)\n",
    "    if ingrediente == 'sal':\n",
    "        break"
   ]
  },
  {
   "cell_type": "code",
   "execution_count": 18,
   "id": "eeb9d0b8",
   "metadata": {},
   "outputs": [
    {
     "name": "stdout",
     "output_type": "stream",
     "text": [
      "1\n",
      "3\n",
      "4\n",
      "0\n",
      "5\n"
     ]
    }
   ],
   "source": [
    "my_nums = [1, 3, -5, 4, 0, -20, -10, 5]\n",
    "for num in my_nums:\n",
    "    if num < 0:\n",
    "        continue\n",
    "    print(num)"
   ]
  },
  {
   "cell_type": "code",
   "execution_count": 22,
   "id": "7ec54961",
   "metadata": {},
   "outputs": [
    {
     "name": "stdout",
     "output_type": "stream",
     "text": [
      "Iterator: 0\n",
      "1\n",
      "Iterator: 1\n",
      "3\n",
      "Iterator: 3\n",
      "4\n",
      "Iterator: 4\n",
      "0\n",
      "Iterator: 7\n",
      "5\n"
     ]
    }
   ],
   "source": [
    "my_nums = [1, 3, -5, 4, 0, -20, -10, 5]\n",
    "for i in range(len(my_nums)):\n",
    "    # print('Iterator: ' + str(i))\n",
    "    if my_nums[i] < 0:\n",
    "        continue\n",
    "    print('Iterator: ' + str(i))\n",
    "    print(my_nums[i])"
   ]
  },
  {
   "cell_type": "code",
   "execution_count": 27,
   "id": "e49e4d6c",
   "metadata": {},
   "outputs": [
    {
     "name": "stdout",
     "output_type": "stream",
     "text": [
      "manzana\n",
      "pera\n",
      "banano\n"
     ]
    }
   ],
   "source": [
    "cart = [['manzana', 5, 3000], ['pera', 6, 2000], ['banano', 3, 500]]\n",
    "for item in cart:\n",
    "    for element in item:\n",
    "        if type(element) == str:\n",
    "            print(element)"
   ]
  },
  {
   "cell_type": "markdown",
   "id": "2551f996",
   "metadata": {},
   "source": [
    "## List Comprehension\n",
    "- Forma de simplificar ciclos para la creación de listas\n",
    "```python\n",
    "new_list = [<expression> for <element> in <collection>]\n",
    "```"
   ]
  },
  {
   "cell_type": "code",
   "execution_count": 30,
   "id": "8b54a3d7",
   "metadata": {},
   "outputs": [
    {
     "name": "stdout",
     "output_type": "stream",
     "text": [
      "[1, 9, 25, 16, 0, 400, 100, 25]\n"
     ]
    }
   ],
   "source": [
    "my_nums = [1, 3, -5, 4, 0, -20, -10, 5]\n",
    "power_2 = []\n",
    "for num in my_nums:\n",
    "    power_2.append(num ** 2)\n",
    "print(power_2)"
   ]
  },
  {
   "cell_type": "code",
   "execution_count": 31,
   "id": "335dcadf",
   "metadata": {},
   "outputs": [
    {
     "name": "stdout",
     "output_type": "stream",
     "text": [
      "[1, 9, 25, 16, 0, 400, 100, 25]\n"
     ]
    }
   ],
   "source": [
    "power_2 = [num ** 2 for num in my_nums]\n",
    "print(power_2)"
   ]
  },
  {
   "cell_type": "code",
   "execution_count": 35,
   "id": "a2133784",
   "metadata": {},
   "outputs": [
    {
     "name": "stdout",
     "output_type": "stream",
     "text": [
      "[25, 400, 100]\n"
     ]
    }
   ],
   "source": [
    "power_2_neg = [num ** 2 for num in my_nums if num < 0]\n",
    "print(power_2_neg)"
   ]
  },
  {
   "cell_type": "code",
   "execution_count": 36,
   "id": "bded57ce",
   "metadata": {},
   "outputs": [
    {
     "name": "stdout",
     "output_type": "stream",
     "text": [
      "[2, 6, 25, 8, 0, 400, 100, 10]\n"
     ]
    }
   ],
   "source": [
    "mod_values = [num ** 2 if num < 0 else num * 2 for num in my_nums]\n",
    "print(mod_values)"
   ]
  },
  {
   "cell_type": "code",
   "execution_count": 40,
   "id": "bc80603b",
   "metadata": {},
   "outputs": [
    {
     "name": "stdout",
     "output_type": "stream",
     "text": [
      "La segunda lista (25) suma más que la primera (19).\n"
     ]
    }
   ],
   "source": [
    "list_1 = [3, 5, 4, 6, 1]\n",
    "list_2 = [10, 4, 3, 6, 2]\n",
    "\n",
    "total_1 = 0\n",
    "total_2 = 0\n",
    "\n",
    "for num in list_1:\n",
    "    total_1 += num\n",
    "\n",
    "for num in list_2:\n",
    "    total_2 += num\n",
    "    \n",
    "if total_1 > total_2:\n",
    "    print(\"La primera lista (\" + str(total_1) + \") suma más que la segunda (\" + str(total_2) + \").\")\n",
    "elif total_2 > total_1:\n",
    "    print(\"La segunda lista (\" + str(total_2) + \") suma más que la primera (\" + str(total_1) + \").\")\n",
    "else: \n",
    "    print(\"Las dos listas suman igual: \" + str(total_1))"
   ]
  },
  {
   "cell_type": "markdown",
   "id": "65b027d9",
   "metadata": {},
   "source": [
    "## Function\n",
    "- Problemas: grande, extensos y complejos\n",
    "- \"Divide y vencerás\"\n",
    "- Sintetizar tareas repetitivas\n",
    "- Código (bloque) reutilizable - evitar la repetición"
   ]
  },
  {
   "cell_type": "markdown",
   "id": "cbff5e98",
   "metadata": {},
   "source": [
    "## Function Definition\n",
    "```python\n",
    "def function_name(parameters): # encabezado de función\n",
    "    # acciones\n",
    "```"
   ]
  },
  {
   "cell_type": "code",
   "execution_count": 1,
   "id": "76b6ebcf",
   "metadata": {},
   "outputs": [],
   "source": [
    "def say_hello():\n",
    "    print('Hola :)')"
   ]
  },
  {
   "cell_type": "markdown",
   "id": "b12664ff",
   "metadata": {},
   "source": [
    "## Calling a Function"
   ]
  },
  {
   "cell_type": "code",
   "execution_count": 2,
   "id": "98a19875",
   "metadata": {},
   "outputs": [
    {
     "name": "stdout",
     "output_type": "stream",
     "text": [
      "Hola :)\n"
     ]
    }
   ],
   "source": [
    "say_hello()"
   ]
  },
  {
   "cell_type": "markdown",
   "id": "82f9b469",
   "metadata": {},
   "source": [
    "## Parameters & Arguments\n",
    "- parámetros: nombres que se colocan en la definición - se utilizan como variables\n",
    "- argumentos: datos pasados a la función."
   ]
  },
  {
   "cell_type": "code",
   "execution_count": 3,
   "id": "5ae2b1ef",
   "metadata": {},
   "outputs": [
    {
     "name": "stdout",
     "output_type": "stream",
     "text": [
      "Hello Miguel\n"
     ]
    }
   ],
   "source": [
    "def say_hello(name):\n",
    "    print(\"Hello \" + name)\n",
    "\n",
    "say_hello('Miguel')"
   ]
  },
  {
   "cell_type": "code",
   "execution_count": 4,
   "id": "b920d4d8",
   "metadata": {},
   "outputs": [
    {
     "name": "stdout",
     "output_type": "stream",
     "text": [
      "Hello Miguel. I love Cartagena\n"
     ]
    }
   ],
   "source": [
    "def say_hello(name, city):\n",
    "    print(\"Hello \" + name + \". I love \" + city)\n",
    "\n",
    "say_hello('Miguel', 'Cartagena')"
   ]
  },
  {
   "cell_type": "markdown",
   "id": "b037da9e",
   "metadata": {},
   "source": [
    "## Tipos de Argumentos\n",
    "- Positional: dependen de la ubicación del parámetro en la definición\n",
    "- keyword: utilizan el nombre del parámetro\n",
    "- Default: valores predeterminados"
   ]
  },
  {
   "cell_type": "code",
   "execution_count": 6,
   "id": "c9522c61",
   "metadata": {},
   "outputs": [
    {
     "name": "stdout",
     "output_type": "stream",
     "text": [
      "12.0\n"
     ]
    }
   ],
   "source": [
    "def calculate_tax(income, expenses, tax_rate):\n",
    "    print((income - expenses)*tax_rate)\n",
    "\n",
    "calculate_tax(100, 60, 0.3)"
   ]
  },
  {
   "cell_type": "code",
   "execution_count": 7,
   "id": "9244f95b",
   "metadata": {},
   "outputs": [
    {
     "name": "stdout",
     "output_type": "stream",
     "text": [
      "12.0\n"
     ]
    }
   ],
   "source": [
    "def calculate_tax(income, expenses, tax_rate):\n",
    "    print((income - expenses)*tax_rate)\n",
    "\n",
    "calculate_tax(expenses=60, tax_rate=0.3, income=100)"
   ]
  },
  {
   "cell_type": "code",
   "execution_count": 8,
   "id": "8834b2fa",
   "metadata": {},
   "outputs": [
    {
     "name": "stdout",
     "output_type": "stream",
     "text": [
      "12.0\n"
     ]
    }
   ],
   "source": [
    "def calculate_tax(income, expenses, tax_rate=0.3):\n",
    "    print((income - expenses)*tax_rate)\n",
    "\n",
    "calculate_tax(expenses=60, income=100)"
   ]
  },
  {
   "cell_type": "markdown",
   "id": "fb7eadc6",
   "metadata": {},
   "source": [
    "## Scope\n",
    "- Parte del programa a la que podemos acceder."
   ]
  },
  {
   "cell_type": "code",
   "execution_count": 15,
   "id": "8ce3b4cc",
   "metadata": {},
   "outputs": [
    {
     "name": "stdout",
     "output_type": "stream",
     "text": [
      "12.0\n"
     ]
    },
    {
     "ename": "NameError",
     "evalue": "name 'tax' is not defined",
     "output_type": "error",
     "traceback": [
      "\u001b[1;31m---------------------------------------------------------------------------\u001b[0m",
      "\u001b[1;31mNameError\u001b[0m                                 Traceback (most recent call last)",
      "Input \u001b[1;32mIn [15]\u001b[0m, in \u001b[0;36m<cell line: 8>\u001b[1;34m()\u001b[0m\n\u001b[0;32m      6\u001b[0m restriction \u001b[38;5;241m=\u001b[39m \u001b[38;5;241m500\u001b[39m\n\u001b[0;32m      7\u001b[0m calculate_tax(income, \u001b[38;5;241m60\u001b[39m)\n\u001b[1;32m----> 8\u001b[0m \u001b[38;5;28mprint\u001b[39m(\u001b[43mtax\u001b[49m)\n",
      "\u001b[1;31mNameError\u001b[0m: name 'tax' is not defined"
     ]
    }
   ],
   "source": [
    "def calculate_tax(income, expenses, tax_rate=0.3):\n",
    "    # print(restriction)\n",
    "    tax = (income - expenses)*tax_rate\n",
    "    print(tax)\n",
    "    \n",
    "restriction = 500\n",
    "calculate_tax(income, 60)\n",
    "print(tax)"
   ]
  },
  {
   "cell_type": "markdown",
   "id": "c176985d",
   "metadata": {},
   "source": [
    "## Return\n",
    "- Valor que puede ser modificado o utilizado después de llamar (invocar) una función\n",
    "- Multiple return: separados por coma"
   ]
  },
  {
   "cell_type": "code",
   "execution_count": 18,
   "id": "80370093",
   "metadata": {},
   "outputs": [
    {
     "name": "stdout",
     "output_type": "stream",
     "text": [
      "16.0\n"
     ]
    }
   ],
   "source": [
    "def calculate_tax(income, expenses, tax_rate=0.3):\n",
    "    # print(restriction)\n",
    "    tax = (income - expenses)*tax_rate\n",
    "    return tax\n",
    "    \n",
    "tax = calculate_tax(100, 60, 0.4)\n",
    "print(tax)"
   ]
  },
  {
   "cell_type": "code",
   "execution_count": 23,
   "id": "f8d17605",
   "metadata": {},
   "outputs": [
    {
     "name": "stdout",
     "output_type": "stream",
     "text": [
      "7\n",
      "18\n",
      "23\n",
      "(9, 14, 23)\n"
     ]
    }
   ],
   "source": [
    "import random\n",
    "def random_nums():\n",
    "    num_1 = random.randint(1, 10)\n",
    "    num_2 = random.randint(11, 20)\n",
    "    num_3 = random.randint(21, 30)\n",
    "    return num_1, num_2, num_3\n",
    "\n",
    "num_1, num_2, num_3 = random_nums()\n",
    "print(num_1)\n",
    "print(num_2)\n",
    "print(num_3)\n",
    "print(random_nums())"
   ]
  },
  {
   "cell_type": "code",
   "execution_count": 36,
   "id": "554014be",
   "metadata": {},
   "outputs": [],
   "source": [
    "data = [['Migue', 105, 35], ['Jimena', 80, 40], ['Santiago', 90, 30], ['Salomé', 75, 20]]\n",
    "tax_rate = 0.3\n",
    "# - Migue: impuesto a pagar - $$$. Ganancias: $$$\n",
    "# - Jimena: impuesto a pagar - $$$. Ganancias: $$$\n",
    "# - Santiago: impuesto a pagar - $$$. Ganancias: $$$\n",
    "# - Salomé: impuesto a pagar - $$$. Ganancias: $$$\n",
    "\n",
    "# impuesto_a_pagar = (income - expenses)*tax_rate\n",
    "# ganancias = income - expenses - impuesto_a_pagar\n",
    "\n",
    "\n",
    "def finc_calculate(income, expenses, tax_rate):\n",
    "    impuesto_a_pagar = (income - expenses)*tax_rate\n",
    "    ganancias = income - expenses - impuesto_a_pagar\n",
    "    return impuesto_a_pagar, ganancias\n",
    "\n",
    "def show_taxes(data, tax_rate):\n",
    "    for customer in data:\n",
    "        impuesto, ganancia = finc_calculate(customer[1], customer[2], tax_rate)\n",
    "        print(\"- \" + customer[0] + \": impuesto a pagar - $\" + str(impuesto) + \". Ganancias: $\" + str(ganancia))"
   ]
  },
  {
   "cell_type": "code",
   "execution_count": 29,
   "id": "bf9aceaf",
   "metadata": {},
   "outputs": [
    {
     "name": "stdout",
     "output_type": "stream",
     "text": [
      "(15.0, 35.0)\n"
     ]
    }
   ],
   "source": [
    "print(finc_calculate(100, 50, 0.3))"
   ]
  },
  {
   "cell_type": "code",
   "execution_count": 38,
   "id": "c0fbadd4",
   "metadata": {},
   "outputs": [
    {
     "name": "stdout",
     "output_type": "stream",
     "text": [
      "- Migue: impuesto a pagar - $17.5. Ganancias: $52.5\n",
      "- Jimena: impuesto a pagar - $10.0. Ganancias: $30.0\n",
      "- Santiago: impuesto a pagar - $15.0. Ganancias: $45.0\n",
      "- Salomé: impuesto a pagar - $13.75. Ganancias: $41.25\n"
     ]
    }
   ],
   "source": [
    "show_taxes(data, 0.25)"
   ]
  },
  {
   "cell_type": "markdown",
   "id": "16caa116",
   "metadata": {},
   "source": [
    "## Strings\n",
    "- Tipo de dato: lista de caracteres. \n",
    "- Inmutables\n",
    "- Scape characters: backslash `\\`. `\\n`, `\\t`"
   ]
  },
  {
   "cell_type": "code",
   "execution_count": 2,
   "id": "7eb5931c",
   "metadata": {},
   "outputs": [
    {
     "name": "stdout",
     "output_type": "stream",
     "text": [
      "Inmarcesible\n"
     ]
    }
   ],
   "source": [
    "word = \"Inmarcesible\"\n",
    "print(word)"
   ]
  },
  {
   "cell_type": "code",
   "execution_count": 3,
   "id": "dc3245a1",
   "metadata": {},
   "outputs": [
    {
     "name": "stdout",
     "output_type": "stream",
     "text": [
      "I\n",
      "e\n",
      "arc\n",
      "Inma\n",
      "sible\n"
     ]
    }
   ],
   "source": [
    "print(word[0])\n",
    "print(word[-1])\n",
    "print(word[3:6])\n",
    "print(word[:4])\n",
    "print(word[-5:])"
   ]
  },
  {
   "cell_type": "code",
   "execution_count": 5,
   "id": "eaae770f",
   "metadata": {},
   "outputs": [
    {
     "data": {
      "text/plain": [
       "'Miguel Ortiz'"
      ]
     },
     "execution_count": 5,
     "metadata": {},
     "output_type": "execute_result"
    }
   ],
   "source": [
    "name = \"Miguel\" \n",
    "lastname = \"Ortiz\"\n",
    "fullname = name + \" \" + lastname\n",
    "fullname"
   ]
  },
  {
   "cell_type": "markdown",
   "id": "1adc8b34",
   "metadata": {},
   "source": [
    "## Strings Iteration"
   ]
  },
  {
   "cell_type": "code",
   "execution_count": 6,
   "id": "94d707f2",
   "metadata": {},
   "outputs": [
    {
     "name": "stdout",
     "output_type": "stream",
     "text": [
      "e\n",
      "f\n",
      "í\n",
      "m\n",
      "e\n",
      "r\n",
      "o\n"
     ]
    }
   ],
   "source": [
    "word = \"efímero\"\n",
    "for letter in word:\n",
    "    print(letter)"
   ]
  },
  {
   "cell_type": "markdown",
   "id": "692b78f0",
   "metadata": {},
   "source": [
    "## Condicionales"
   ]
  },
  {
   "cell_type": "code",
   "execution_count": 9,
   "id": "60945fee",
   "metadata": {},
   "outputs": [],
   "source": [
    "if word[0] == 'a':\n",
    "    print(\"La primera letra de la palabra es una 'a'\")\n",
    "    \n",
    "if 'Mer' in word:\n",
    "    print(\"El string 'mer' está en la palabra.\")"
   ]
  },
  {
   "cell_type": "markdown",
   "id": "3bbb29b5",
   "metadata": {},
   "source": [
    "## String Methods"
   ]
  },
  {
   "cell_type": "markdown",
   "id": "de060890",
   "metadata": {},
   "source": [
    "## Style"
   ]
  },
  {
   "cell_type": "code",
   "execution_count": 10,
   "id": "46b5c38f",
   "metadata": {},
   "outputs": [
    {
     "name": "stdout",
     "output_type": "stream",
     "text": [
      "HaKunA MaTatA\n"
     ]
    }
   ],
   "source": [
    "phrase = \"HaKunA MaTatA\"\n",
    "print(phrase)"
   ]
  },
  {
   "cell_type": "code",
   "execution_count": 14,
   "id": "88c68aa1",
   "metadata": {},
   "outputs": [
    {
     "name": "stdout",
     "output_type": "stream",
     "text": [
      "hakuna matata\n",
      "HAKUNA MATATA\n",
      "Hakuna Matata\n"
     ]
    }
   ],
   "source": [
    "print(phrase.lower())\n",
    "print(phrase.upper())\n",
    "print(phrase.title())"
   ]
  },
  {
   "cell_type": "markdown",
   "id": "b4b4361b",
   "metadata": {},
   "source": [
    "## Split\n",
    "- Retornar una lista de strings\n",
    "- Recibe como argumento un delimitador\n",
    "- Los strings obtenidos están separados por ese delimitador"
   ]
  },
  {
   "cell_type": "code",
   "execution_count": 13,
   "id": "59133d92",
   "metadata": {},
   "outputs": [
    {
     "name": "stdout",
     "output_type": "stream",
     "text": [
      "['HaKunA', 'MaTatA']\n",
      "['H', 'KunA M', 'T', 'tA']\n"
     ]
    }
   ],
   "source": [
    "my_list_1 = phrase.split()\n",
    "my_list_2 = phrase.split('a')\n",
    "print(my_list_1)\n",
    "print(my_list_2)"
   ]
  },
  {
   "cell_type": "markdown",
   "id": "ba4edae8",
   "metadata": {},
   "source": [
    "## Join\n",
    "- Se utiliza en un delimitador\n",
    "- Se pasa como argumento la lista de strings que queremos unir"
   ]
  },
  {
   "cell_type": "code",
   "execution_count": 15,
   "id": "b6441561",
   "metadata": {},
   "outputs": [
    {
     "name": "stdout",
     "output_type": "stream",
     "text": [
      "['Me', 'gusta', 'cuando', 'callas', 'porque', 'estás', 'como', 'ausente']\n"
     ]
    }
   ],
   "source": [
    "line_1 = \"Me gusta cuando callas porque estás como ausente\"\n",
    "splitted_line = line_1.split()\n",
    "print(splitted_line)"
   ]
  },
  {
   "cell_type": "code",
   "execution_count": 19,
   "id": "33904f5b",
   "metadata": {},
   "outputs": [
    {
     "name": "stdout",
     "output_type": "stream",
     "text": [
      "Me#gusta#cuando#callas#porque#estás#como#ausente\n"
     ]
    }
   ],
   "source": [
    "reconstructed_line = \"#\".join(splitted_line)\n",
    "print(reconstructed_line)"
   ]
  },
  {
   "cell_type": "markdown",
   "id": "e5701105",
   "metadata": {},
   "source": [
    "## Strip\n",
    "- Limpiar strings"
   ]
  },
  {
   "cell_type": "code",
   "execution_count": 22,
   "id": "32ac1462",
   "metadata": {},
   "outputs": [
    {
     "name": "stdout",
     "output_type": "stream",
     "text": [
      "             *****Miguel*********************   \n",
      "*****Miguel*********************\n",
      "Miguel\n"
     ]
    }
   ],
   "source": [
    "data = \"             *****Miguel*********************   \"\n",
    "clean_1 = data.strip()\n",
    "print(data)\n",
    "print(clean_1)\n",
    "clean_2 = clean_1.strip(\"*\")\n",
    "print(clean_2)"
   ]
  },
  {
   "cell_type": "markdown",
   "id": "41ff4aaa",
   "metadata": {},
   "source": [
    "## Replace\n",
    "- Reemplazar caracteres"
   ]
  },
  {
   "cell_type": "code",
   "execution_count": 25,
   "id": "6ffcc0c9",
   "metadata": {},
   "outputs": [
    {
     "name": "stdout",
     "output_type": "stream",
     "text": [
      "HaKunA MaTatA\n",
      "h@kun@ m@t@t@\n"
     ]
    }
   ],
   "source": [
    "print(phrase)\n",
    "new_phrase = phrase.lower().replace('a', '@')\n",
    "print(new_phrase)"
   ]
  },
  {
   "cell_type": "markdown",
   "id": "a862f381",
   "metadata": {},
   "source": [
    "## Find\n",
    "- Recibe un string como argumento\n",
    "- Retorna el PRIMER índice donde está ubicado el string"
   ]
  },
  {
   "cell_type": "code",
   "execution_count": 29,
   "id": "0a77a4bb",
   "metadata": {},
   "outputs": [
    {
     "name": "stdout",
     "output_type": "stream",
     "text": [
      "efímero\n",
      "2\n"
     ]
    }
   ],
   "source": [
    "print(word)\n",
    "print(word.find('í'))"
   ]
  },
  {
   "cell_type": "markdown",
   "id": "eaf84667",
   "metadata": {},
   "source": [
    "## Format\n",
    "- Permite utilizar variables dentro de un string"
   ]
  },
  {
   "cell_type": "code",
   "execution_count": 31,
   "id": "e5115922",
   "metadata": {},
   "outputs": [
    {
     "name": "stdout",
     "output_type": "stream",
     "text": [
      "Mi nombre es Miguel y soy de Cartagena\n"
     ]
    }
   ],
   "source": [
    "name = \"Miguel\"\n",
    "city = \"Cartagena\"\n",
    "print(\"Mi nombre es {} y soy de {}\".format(name, city))"
   ]
  },
  {
   "cell_type": "code",
   "execution_count": 32,
   "id": "146054f8",
   "metadata": {},
   "outputs": [
    {
     "name": "stdout",
     "output_type": "stream",
     "text": [
      "Mi nombre es Miguel y soy de Cartagena\n"
     ]
    }
   ],
   "source": [
    "print(\"Mi nombre es {a} y soy de {b}\".format(a=name, b=city))"
   ]
  },
  {
   "cell_type": "markdown",
   "id": "7978cc35",
   "metadata": {},
   "source": [
    "## F-string"
   ]
  },
  {
   "cell_type": "code",
   "execution_count": 33,
   "id": "a884079b",
   "metadata": {},
   "outputs": [
    {
     "name": "stdout",
     "output_type": "stream",
     "text": [
      "Mi nombre es Miguel y soy de Cartagena\n"
     ]
    }
   ],
   "source": [
    "print(f\"Mi nombre es {name} y soy de {city}\")"
   ]
  },
  {
   "cell_type": "code",
   "execution_count": 47,
   "id": "983394a7",
   "metadata": {},
   "outputs": [],
   "source": [
    "import random\n",
    "subject_1 = [\"Mami\", \"Bebé\", \"Princess\", \"Mami\"]\n",
    "conn_1 = [\" yo quiero \", \" yo puedo \", \" yo vengo a \", \" voy a \"]\n",
    "verb_1 = [\"encendelte \", \"amalte \", \"ligal \", \"jugal \"]\n",
    "adj_1 = [\"suave \", \"lento \", \"rápido \", \"fuerte \"]\n",
    "compl_1 = [\"hasta que salga el sol \", \"toda la noche \", \"hasta el amanecel \", \"todo el día \"]\n",
    "compl_2 = [\"sin anestecia\", \"sin compromiso\", \"feis to feis\", \"sin miedo\"]\n",
    "\n",
    "def componer_reg(lines):\n",
    "    count = 0\n",
    "    song = ''\n",
    "    while count < lines:\n",
    "        song += subject_1[random.randint(0, len(subject_1)-1)] + conn_1[random.randint(0, len(conn_1)-1)] + verb_1[random.randint(0, len(verb_1)-1)] + adj_1[random.randint(0, len(adj_1)-1)] + compl_1[random.randint(0, len(compl_1)-1)] + compl_2[random.randint(0, len(compl_2)-1)] + '\\n'\n",
    "        count += 1\n",
    "    return song"
   ]
  },
  {
   "cell_type": "code",
   "execution_count": 48,
   "id": "4789fe9b",
   "metadata": {},
   "outputs": [
    {
     "name": "stdout",
     "output_type": "stream",
     "text": [
      "Mami voy a jugal fuerte hasta que salga el sol sin anestecia\n",
      "Mami yo puedo jugal lento hasta el amanecel sin anestecia\n",
      "Bebé yo puedo amalte suave hasta el amanecel sin anestecia\n",
      "Mami yo quiero jugal suave hasta el amanecel sin miedo\n",
      "\n"
     ]
    }
   ],
   "source": [
    "print(componer_reg(4))"
   ]
  },
  {
   "cell_type": "code",
   "execution_count": 49,
   "id": "7b2665ee",
   "metadata": {},
   "outputs": [
    {
     "name": "stdout",
     "output_type": "stream",
     "text": [
      "Mami yo vengo a amalte rápido hasta el amanecel sin compromiso\n",
      "Mami yo vengo a jugal rápido todo el día sin anestecia\n",
      "Bebé voy a encendelte lento hasta el amanecel sin anestecia\n",
      "Mami yo quiero amalte fuerte hasta el amanecel feis to feis\n",
      "\n"
     ]
    }
   ],
   "source": [
    "print(componer_reg(4))"
   ]
  },
  {
   "cell_type": "markdown",
   "id": "04b709fc",
   "metadata": {},
   "source": [
    "## Dictionaries\n",
    "- Conjunto desordenado de parejas llave:valor (key:values)\n",
    "- Para mapear información\n",
    "- `{key:valule}`\n",
    "- Laves son únicas - deben tener un hash value (identificador inmutable)\n",
    "- Llaves son de tipo string o numérico\n",
    "- Se parecen a la estructura de los JSON (JavaScript Object Notation)"
   ]
  },
  {
   "cell_type": "code",
   "execution_count": 8,
   "id": "7d47288c",
   "metadata": {},
   "outputs": [
    {
     "name": "stdout",
     "output_type": "stream",
     "text": [
      "{'hotdog': 2500, 'pizza': 3000, 'burguer': 3500, 'salchipapa': 12000}\n",
      "<class 'dict'>\n"
     ]
    }
   ],
   "source": [
    "# empty_dict = {}\n",
    "fast_foods = {\"hotdog\":2500, \"pizza\": 3000, \"burguer\":3500, \"salchipapa\":12000}\n",
    "print(fast_foods)\n",
    "print(type(fast_foods))"
   ]
  },
  {
   "cell_type": "markdown",
   "id": "154d843e",
   "metadata": {},
   "source": [
    "## Add Key"
   ]
  },
  {
   "cell_type": "code",
   "execution_count": 9,
   "id": "26920bc7",
   "metadata": {},
   "outputs": [
    {
     "name": "stdout",
     "output_type": "stream",
     "text": [
      "{'hotdog': 2500, 'pizza': 3000, 'burguer': 3500, 'salchipapa': 12000, 'empanada': 2000}\n"
     ]
    }
   ],
   "source": [
    "fast_foods[\"empanada\"] = 2000\n",
    "print(fast_foods)"
   ]
  },
  {
   "cell_type": "markdown",
   "id": "781b25bf",
   "metadata": {},
   "source": [
    "## Update"
   ]
  },
  {
   "cell_type": "code",
   "execution_count": 10,
   "id": "56b86447",
   "metadata": {},
   "outputs": [
    {
     "name": "stdout",
     "output_type": "stream",
     "text": [
      "{'hotdog': 2500, 'pizza': 3000, 'burguer': 3500, 'salchipapa': 12000, 'empanada': 2000, 'ice_cream': 3900, 'butifarra': 1000, 'dedito': 18000}\n"
     ]
    }
   ],
   "source": [
    "fast_foods.update({\"ice_cream\": 3900, \"butifarra\":1000, \"dedito\": 18000})\n",
    "print(fast_foods)"
   ]
  },
  {
   "cell_type": "markdown",
   "id": "b184025a",
   "metadata": {},
   "source": [
    "## Overwrite"
   ]
  },
  {
   "cell_type": "code",
   "execution_count": 5,
   "id": "75132eee",
   "metadata": {},
   "outputs": [
    {
     "name": "stdout",
     "output_type": "stream",
     "text": [
      "{'hotdog': 2500, 'pizza': 3000, 'burguer': 3500, 'salchipapa': 12000, 'empanada': 2000, 'ice_cream': 4900, 'butifarra': 1000, 'dedito': 18000}\n"
     ]
    }
   ],
   "source": [
    "fast_foods[\"ice_cream\"] = 4900\n",
    "print(fast_foods)"
   ]
  },
  {
   "cell_type": "markdown",
   "id": "b66474d9",
   "metadata": {},
   "source": [
    "## Dict Comprehension"
   ]
  },
  {
   "cell_type": "code",
   "execution_count": 11,
   "id": "c8db35a8",
   "metadata": {},
   "outputs": [
    {
     "name": "stdout",
     "output_type": "stream",
     "text": [
      "{'Salomé': 4.0, 'Jesús': 4.5, 'Jey': 3.75}\n"
     ]
    }
   ],
   "source": [
    "names = [\"Salomé\", \"Jesús\", \"Jey\"]\n",
    "scores = [80, 90, 75]\n",
    "grades = {key:value*5/100 for key, value in zip(names, scores)}\n",
    "print(grades)"
   ]
  },
  {
   "cell_type": "markdown",
   "id": "4c1cec2a",
   "metadata": {},
   "source": [
    "## Get Keys"
   ]
  },
  {
   "cell_type": "code",
   "execution_count": 16,
   "id": "8b35dfdf",
   "metadata": {},
   "outputs": [
    {
     "name": "stdout",
     "output_type": "stream",
     "text": [
      "{'hotdog': 2500, 'pizza': 3000, 'burguer': 3500, 'salchipapa': 12000, 'empanada': 2000, 'ice_cream': 3900, 'butifarra': 1000, 'dedito': 18000}\n"
     ]
    },
    {
     "ename": "KeyError",
     "evalue": "'quibbe'",
     "output_type": "error",
     "traceback": [
      "\u001b[1;31m---------------------------------------------------------------------------\u001b[0m",
      "\u001b[1;31mKeyError\u001b[0m                                  Traceback (most recent call last)",
      "Input \u001b[1;32mIn [16]\u001b[0m, in \u001b[0;36m<cell line: 2>\u001b[1;34m()\u001b[0m\n\u001b[0;32m      1\u001b[0m \u001b[38;5;28mprint\u001b[39m(fast_foods)\n\u001b[1;32m----> 2\u001b[0m \u001b[38;5;28mprint\u001b[39m(\u001b[43mfast_foods\u001b[49m\u001b[43m[\u001b[49m\u001b[38;5;124;43m'\u001b[39;49m\u001b[38;5;124;43mquibbe\u001b[39;49m\u001b[38;5;124;43m'\u001b[39;49m\u001b[43m]\u001b[49m)\n",
      "\u001b[1;31mKeyError\u001b[0m: 'quibbe'"
     ]
    }
   ],
   "source": [
    "print(fast_foods)\n",
    "print(fast_foods[\"quibbe\"])"
   ]
  },
  {
   "cell_type": "code",
   "execution_count": 17,
   "id": "419d09a8",
   "metadata": {},
   "outputs": [
    {
     "name": "stdout",
     "output_type": "stream",
     "text": [
      "No tenemos quibbes\n"
     ]
    }
   ],
   "source": [
    "if \"quibbe\" in fast_foods:\n",
    "    print(fast_foods[\"quibbe\"])\n",
    "else:\n",
    "    print(\"No tenemos quibbes\")"
   ]
  },
  {
   "cell_type": "markdown",
   "id": "fc56e3c2",
   "metadata": {},
   "source": [
    "## Try/Except"
   ]
  },
  {
   "cell_type": "code",
   "execution_count": 18,
   "id": "46d14817",
   "metadata": {},
   "outputs": [
    {
     "name": "stdout",
     "output_type": "stream",
     "text": [
      "No tenemos quibbes\n"
     ]
    }
   ],
   "source": [
    "try:\n",
    "    print(fast_foods[\"quibbe\"])\n",
    "except KeyError:\n",
    "    print(\"No tenemos quibbes\")"
   ]
  },
  {
   "cell_type": "markdown",
   "id": "bd876f18",
   "metadata": {},
   "source": [
    "## Secure way to access Keys: .get()"
   ]
  },
  {
   "cell_type": "code",
   "execution_count": 21,
   "id": "6536e8f4",
   "metadata": {},
   "outputs": [
    {
     "name": "stdout",
     "output_type": "stream",
     "text": [
      "No tenemos quibbes\n"
     ]
    }
   ],
   "source": [
    "print(fast_foods.get(\"quibbe\", \"No tenemos quibbes\"))"
   ]
  },
  {
   "cell_type": "markdown",
   "id": "94dd40fe",
   "metadata": {},
   "source": [
    "## Delete a Key: .pop()"
   ]
  },
  {
   "cell_type": "code",
   "execution_count": 23,
   "id": "7ec14f1c",
   "metadata": {},
   "outputs": [
    {
     "name": "stdout",
     "output_type": "stream",
     "text": [
      "Fallaste. Intenta de nuevo\n",
      "{1423: 'peluche', 8735: 'tickets', 7645: 'helado'}\n",
      "tickets\n",
      "{1423: 'peluche', 7645: 'helado'}\n"
     ]
    }
   ],
   "source": [
    "prizes = {1423: \"peluche\", 8735: \"tickets\", 7645: \"helado\"}\n",
    "print(prizes.pop(6762, \"Fallaste. Intenta de nuevo\"))\n",
    "print(prizes)\n",
    "print(prizes.pop(8735, \"Fallaste. Intenta de nuevo\"))\n",
    "print(prizes)"
   ]
  },
  {
   "cell_type": "code",
   "execution_count": 25,
   "id": "9eb7b367",
   "metadata": {},
   "outputs": [
    {
     "name": "stdout",
     "output_type": "stream",
     "text": [
      "{'armadura': 1000, 'espada': 500, 'escudo': 1500}\n",
      "Dinero actual: $800\n",
      "{'armadura': 1000, 'escudo': 1500}\n",
      "Dinero actual: $1300\n"
     ]
    }
   ],
   "source": [
    "items_to_sell = {\"armadura\": 1000, \"espada\": 500, \"escudo\": 1500}\n",
    "current_money = 800\n",
    "# Sell\n",
    "print(items_to_sell)\n",
    "print(f\"Dinero actual: ${current_money}\")\n",
    "current_money += items_to_sell.pop(\"espada\", 0)\n",
    "print(items_to_sell)\n",
    "print(f\"Dinero actual: ${current_money}\")"
   ]
  },
  {
   "cell_type": "markdown",
   "id": "a2b83c5d",
   "metadata": {},
   "source": [
    "## Get all the keys"
   ]
  },
  {
   "cell_type": "code",
   "execution_count": 30,
   "id": "1b5256cf",
   "metadata": {},
   "outputs": [
    {
     "name": "stdout",
     "output_type": "stream",
     "text": [
      "hotdog\n",
      "pizza\n",
      "burguer\n",
      "salchipapa\n",
      "empanada\n",
      "ice_cream\n",
      "butifarra\n",
      "dedito\n"
     ]
    }
   ],
   "source": [
    "for foods in fast_foods.keys():\n",
    "    print(foods)"
   ]
  },
  {
   "cell_type": "markdown",
   "id": "9615a61c",
   "metadata": {},
   "source": [
    "## Get all the values"
   ]
  },
  {
   "cell_type": "code",
   "execution_count": 31,
   "id": "908b5e9d",
   "metadata": {},
   "outputs": [
    {
     "name": "stdout",
     "output_type": "stream",
     "text": [
      "2500\n",
      "3000\n",
      "3500\n",
      "12000\n",
      "2000\n",
      "3900\n",
      "1000\n",
      "18000\n"
     ]
    }
   ],
   "source": [
    "for foods in fast_foods.values():\n",
    "    print(foods)"
   ]
  },
  {
   "cell_type": "markdown",
   "id": "3757e089",
   "metadata": {},
   "source": [
    "## Get all the items"
   ]
  },
  {
   "cell_type": "code",
   "execution_count": 35,
   "id": "d91e0d10",
   "metadata": {},
   "outputs": [
    {
     "name": "stdout",
     "output_type": "stream",
     "text": [
      "hotdog - $2500\n",
      "pizza - $3000\n",
      "burguer - $3500\n",
      "salchipapa - $12000\n",
      "empanada - $2000\n",
      "ice_cream - $3900\n",
      "butifarra - $1000\n",
      "dedito - $18000\n"
     ]
    }
   ],
   "source": [
    "for key, value in fast_foods.items():\n",
    "    print(f\"{key} - ${value}\")"
   ]
  },
  {
   "cell_type": "code",
   "execution_count": 39,
   "id": "dd8d2b29",
   "metadata": {},
   "outputs": [
    {
     "name": "stdout",
     "output_type": "stream",
     "text": [
      "{'Salomé': [6, True], 'Jesús': [5, False], 'Jey': [3, False]}\n"
     ]
    }
   ],
   "source": [
    "print({name:[len(name), len(name)%2 == 0] for name in names})"
   ]
  },
  {
   "cell_type": "code",
   "execution_count": 42,
   "id": "063d48d4",
   "metadata": {},
   "outputs": [
    {
     "name": "stdout",
     "output_type": "stream",
     "text": [
      "{909787: {'tool_name': 'Taladro', 'qty': 10, 'price': 150000}, 17384: {'tool_name': 'Segueta', 'qty': 5, 'price': 45000}}\n"
     ]
    }
   ],
   "source": [
    "inventory = {909787: {\"tool_name\": \"Taladro\", \"qty\": 10, \"price\": 150000}, 17384: {\"tool_name\": \"Segueta\", \"qty\": 5, \"price\": 45000}}\n",
    "current_money = 2000000\n",
    "print(inventory)\n",
    "# Función para vender: sell_item('tool_name', qty)\n",
    "# Función para comprar: buy_item('tool_name', qty, price)\n",
    "# Función para ajustar precio: adjust_price(rate)\n",
    "# Vender 5 taladros\n",
    "# Vender 2 seguetas\n",
    "# Comprar 30 martillos a $20000\n",
    "# Comprar 20 destornilladores a $10000\n",
    "# Vender 10 martillos\n",
    "# Vender 5 destornilladores"
   ]
  },
  {
   "cell_type": "markdown",
   "id": "1ca530fd",
   "metadata": {},
   "source": [
    "## Clases\n",
    "\n",
    "### Types\n",
    "- Manera de almacenar datos: strings, float, int, list, dict -> type()\n",
    "- Qué puedo hacer con ese objeto y cómo puedo usarlo\n",
    "\n",
    "### Class\n",
    "- Plantilla para un tipo de dato\n",
    "- Definimos el tipo de información que tiene un objeto y cómo interactuar con ese objeto\n",
    "- Clases definidas por el usuario - Nombres con mayúsculas (CamelCase)"
   ]
  },
  {
   "cell_type": "code",
   "execution_count": 2,
   "id": "59af8d56",
   "metadata": {},
   "outputs": [],
   "source": [
    "class MyClass:\n",
    "    pass # La clase va a definirse - se usa para no generar error."
   ]
  },
  {
   "cell_type": "markdown",
   "id": "54adea67",
   "metadata": {},
   "source": [
    "## Instantiation\n",
    "- Podemos tener una clase, pero tenemos que instanciarla para poder usarla. \n",
    "- Cuando creamos una instancia de una clase, creamos un objeto."
   ]
  },
  {
   "cell_type": "code",
   "execution_count": 4,
   "id": "d654a6f5",
   "metadata": {},
   "outputs": [],
   "source": [
    "class_instance = MyClass() # Similar a la invocación de una función"
   ]
  },
  {
   "cell_type": "code",
   "execution_count": 5,
   "id": "30ea3697",
   "metadata": {},
   "outputs": [
    {
     "name": "stdout",
     "output_type": "stream",
     "text": [
      "<__main__.MyClass object at 0x0000011C959F0AF0>\n"
     ]
    }
   ],
   "source": [
    "print(class_instance)"
   ]
  },
  {
   "cell_type": "markdown",
   "id": "5d29d0c9",
   "metadata": {},
   "source": [
    "## OOP: Object-Oriented Programming\n",
    "- Definir clases\n",
    "- Instanciar clases (crear objetos)\n",
    "- Los objetos representan responsabilidades"
   ]
  },
  {
   "cell_type": "markdown",
   "id": "089a075e",
   "metadata": {},
   "source": [
    "## Variables de Clase\n",
    "- Información que tenemos disponible para tooodos los instancias/objetos de una misma clase\n",
    "- `objeto.variable`"
   ]
  },
  {
   "cell_type": "code",
   "execution_count": 6,
   "id": "31873a3c",
   "metadata": {},
   "outputs": [
    {
     "name": "stdout",
     "output_type": "stream",
     "text": [
      "estudiante\n",
      "estudiante\n"
     ]
    }
   ],
   "source": [
    "class Student:\n",
    "    role = \"estudiante\"\n",
    "\n",
    "salome = Student()\n",
    "santiago = Student()\n",
    "\n",
    "print(salome.role)\n",
    "print(santiago.role)"
   ]
  },
  {
   "cell_type": "markdown",
   "id": "a98451d5",
   "metadata": {},
   "source": [
    "## Métodos\n",
    "- Función definida como parte de una clase\n",
    "- Si primer argumento es `self`: se llama al objeto instanciado\n",
    "- Al invocar un método, éste llama al mismo objeto\n",
    "- Todos los métodos deben tener por lo menos el argumento `self`"
   ]
  },
  {
   "cell_type": "code",
   "execution_count": 11,
   "id": "09f63b42",
   "metadata": {},
   "outputs": [
    {
     "name": "stdout",
     "output_type": "stream",
     "text": [
      "Rol: estudiante\n"
     ]
    }
   ],
   "source": [
    "class Student:\n",
    "    role = \"estudiante\"\n",
    "    def tell_role(self):\n",
    "        print(f\"Rol: {self.role}\")\n",
    "        \n",
    "salome = Student()\n",
    "salome.tell_role()"
   ]
  },
  {
   "cell_type": "markdown",
   "id": "864ba9ce",
   "metadata": {},
   "source": [
    "## Métodos con Argumentos"
   ]
  },
  {
   "cell_type": "code",
   "execution_count": 10,
   "id": "5c42be0f",
   "metadata": {},
   "outputs": [
    {
     "name": "stdout",
     "output_type": "stream",
     "text": [
      "Rol: estudiante\n",
      "Hola, mi nombre es Salomé\n"
     ]
    }
   ],
   "source": [
    "class Student:\n",
    "    role = \"estudiante\"\n",
    "    def tell_role(self):\n",
    "        print(f\"Rol: {self.role}\")\n",
    "    def greet(self, name):\n",
    "        print(f\"Hola, mi nombre es {name}\")\n",
    "        \n",
    "salome = Student()\n",
    "salome.tell_role()\n",
    "salome.greet(\"Salomé\")"
   ]
  },
  {
   "cell_type": "markdown",
   "id": "765bd8f4",
   "metadata": {},
   "source": [
    "## Constructores\n",
    "- Magic methods o dunder (double underscore) methods\n",
    "- Contructores: preparan al objeto cuando están siendo instanciados\n",
    "- `__init__`"
   ]
  },
  {
   "cell_type": "code",
   "execution_count": 13,
   "id": "e816a1b7",
   "metadata": {},
   "outputs": [
    {
     "name": "stdout",
     "output_type": "stream",
     "text": [
      "Rol: estudiante\n",
      "Hola, mi nombre es Salomé y soy de Cereté\n",
      "Rol: estudiante\n",
      "Hola, mi nombre es Jimena y soy de Montería\n"
     ]
    }
   ],
   "source": [
    "class Student:\n",
    "    role = \"estudiante\"\n",
    "    \n",
    "    def __init__(self, name, birth_city):\n",
    "        # print(\"Creando estudiante...\")\n",
    "        self.name = name\n",
    "        self.birth_city = birth_city\n",
    "        # print(\"Estudiante creado.\")\n",
    "    \n",
    "    def tell_role(self):\n",
    "        print(f\"Rol: {self.role}\")\n",
    "        \n",
    "    def greet(self):\n",
    "        print(f\"Hola, mi nombre es {self.name} y soy de {self.birth_city}\")\n",
    "        \n",
    "salome = Student(\"Salomé\", \"Cereté\")\n",
    "salome.tell_role()\n",
    "salome.greet()\n",
    "jimena = Student(\"Jimena\", \"Montería\")\n",
    "jimena.tell_role()\n",
    "jimena.greet()"
   ]
  },
  {
   "cell_type": "markdown",
   "id": "f6d8491a",
   "metadata": {},
   "source": [
    "## Variables de Instancia\n",
    "- Clases: esquemáticos para un tipo de datos\n",
    "- Objetos: instancias de una clase\n",
    "- Cada instancia de clase puede tener diferentes tipos de datos\n",
    "- Los datos que posee un objeto se conocen como variables de instancia y NO son compartidos por todas las instancias de una clase."
   ]
  },
  {
   "cell_type": "markdown",
   "id": "472ca2c5",
   "metadata": {},
   "source": [
    "## Funciones de Atributo\n",
    "- Atributo: variables de clase y de instancia\n",
    "- Podemos desconocer los atributos de una clase... \n",
    "- Cuando intentamos acceder a un atributo que no existe... `AttributeError`\n",
    "- `hasattr()` (si el objeto tiene un cierto atributo) y `getattr()` (obtener un atributo)"
   ]
  },
  {
   "cell_type": "markdown",
   "id": "9a4356ca",
   "metadata": {},
   "source": [
    "## Self\n",
    "- Hace referencia al objeto y NO a la clase. \n",
    "- Da cierta ventaja frente a los diccionarios: son más rígidas"
   ]
  },
  {
   "cell_type": "markdown",
   "id": "c9385742",
   "metadata": {},
   "source": [
    "## TODO es un OBJETO\n",
    "- Podemos agregar atributos a objetos definidos por el usuario\n",
    "- Los objetos poseen atributos que no necesariamente son definidos en el constructor\n",
    "- `dir()`"
   ]
  },
  {
   "cell_type": "code",
   "execution_count": 16,
   "id": "c4035655",
   "metadata": {},
   "outputs": [
    {
     "name": "stdout",
     "output_type": "stream",
     "text": [
      "['__add__', '__class__', '__class_getitem__', '__contains__', '__delattr__', '__delitem__', '__dir__', '__doc__', '__eq__', '__format__', '__ge__', '__getattribute__', '__getitem__', '__gt__', '__hash__', '__iadd__', '__imul__', '__init__', '__init_subclass__', '__iter__', '__le__', '__len__', '__lt__', '__mul__', '__ne__', '__new__', '__reduce__', '__reduce_ex__', '__repr__', '__reversed__', '__rmul__', '__setattr__', '__setitem__', '__sizeof__', '__str__', '__subclasshook__', 'append', 'clear', 'copy', 'count', 'extend', 'index', 'insert', 'pop', 'remove', 'reverse', 'sort']\n",
      "--------------------\n",
      "['__class__', '__delattr__', '__dict__', '__dir__', '__doc__', '__eq__', '__format__', '__ge__', '__getattribute__', '__gt__', '__hash__', '__init__', '__init_subclass__', '__le__', '__lt__', '__module__', '__ne__', '__new__', '__reduce__', '__reduce_ex__', '__repr__', '__setattr__', '__sizeof__', '__str__', '__subclasshook__', '__weakref__', 'birth_city', 'greet', 'name', 'role', 'tell_role']\n"
     ]
    }
   ],
   "source": [
    "my_list = [1, 2, 3, 'a']\n",
    "print(dir(my_list))\n",
    "print(\"-\"*20)\n",
    "print(dir(jimena))"
   ]
  },
  {
   "cell_type": "markdown",
   "id": "a797ff71",
   "metadata": {},
   "source": [
    "## String Representation\n",
    "- Al imprimir un objeto obtenemos información sobre dirección en memoria... poco útil la mayoría de las veces.\n",
    "- Podemos personalizar lo que se muestra cuando imprimimos un objeto.\n",
    "- `__repr__`: retorna un string"
   ]
  },
  {
   "cell_type": "code",
   "execution_count": 19,
   "id": "cee27732",
   "metadata": {},
   "outputs": [
    {
     "name": "stdout",
     "output_type": "stream",
     "text": [
      "Un/a estudiante llamado Salomé.\n",
      "Un/a estudiante llamado Jimena.\n"
     ]
    }
   ],
   "source": [
    "class Student:\n",
    "    role = \"estudiante\"\n",
    "    \n",
    "    def __init__(self, name, birth_city):\n",
    "        # print(\"Creando estudiante...\")\n",
    "        self.name = name\n",
    "        self.birth_city = birth_city\n",
    "        # print(\"Estudiante creado.\")\n",
    "    \n",
    "    def tell_role(self):\n",
    "        print(f\"Rol: {self.role}\")\n",
    "        \n",
    "    def greet(self):\n",
    "        print(f\"Hola, mi nombre es {self.name} y soy de {self.birth_city}\")\n",
    "        \n",
    "    def __repr__(self):\n",
    "        return f\"Un/a {self.role} llamado {self.name}.\"\n",
    "        \n",
    "salome = Student(\"Salomé\", \"Cereté\")\n",
    "jimena = Student(\"Jimena\", \"Montería\")\n",
    "print(salome)\n",
    "print(jimena)"
   ]
  },
  {
   "cell_type": "code",
   "execution_count": null,
   "id": "b93ac4b6",
   "metadata": {},
   "outputs": [],
   "source": []
  }
 ],
 "metadata": {
  "kernelspec": {
   "display_name": "Python 3 (ipykernel)",
   "language": "python",
   "name": "python3"
  },
  "language_info": {
   "codemirror_mode": {
    "name": "ipython",
    "version": 3
   },
   "file_extension": ".py",
   "mimetype": "text/x-python",
   "name": "python",
   "nbconvert_exporter": "python",
   "pygments_lexer": "ipython3",
   "version": "3.9.12"
  }
 },
 "nbformat": 4,
 "nbformat_minor": 5
}
