{
 "cells": [
  {
   "cell_type": "markdown",
   "id": "58816bdb",
   "metadata": {},
   "source": [
    "# My First Steps"
   ]
  },
  {
   "cell_type": "markdown",
   "id": "359c36fc",
   "metadata": {},
   "source": [
    "Anotaciones previas:\n",
    "\n",
    "## Bash:\n",
    "\n",
    "- `ls`: listar\n",
    "- `mkdir`: crear directorio\n",
    "- `cd`: cambiar directorio\n",
    "- `echo`: crear archivo\n",
    "\n",
    "- `cat`: leer archivo"
   ]
  },
  {
   "cell_type": "markdown",
   "id": "8d5e893e",
   "metadata": {},
   "source": [
    "## Encabezados\n",
    "\n",
    "Se crean con `#` y hay 6 niveles.\n",
    "\n",
    "### Título 3\n",
    "#### Título 4\n",
    "##### Título 5"
   ]
  },
  {
   "cell_type": "markdown",
   "id": "cfa57282",
   "metadata": {},
   "source": [
    "## Estilos\n",
    "\n",
    "***\n",
    "*Me gusta* cuando callas porque _estás como ausente_, <br>\n",
    "y me **oyes** desde lejos, y mi __voz__ no te toca.<br>\n",
    "***\n",
    "Parece que los `ojos` se te hubieran volado <br>\n",
    "y parece que un beso te cerrara la boca.\n",
    "<br>\n",
    "```python\n",
    "x = 3\n",
    "y = x + 2\n",
    "print(y)\n",
    "```\n",
    "\n",
    "> Esta es una citación:\n",
    "> Me gusta* cuando callas porque _estás como ausente_\n"
   ]
  },
  {
   "cell_type": "markdown",
   "id": "d73f212e",
   "metadata": {},
   "source": [
    "## Listas\n",
    "\n",
    "#### Lista de Compras\n",
    "- Pan\n",
    "- Leche\n",
    "- Huevos\n",
    "    - AA x30\n",
    "    - AAA x12\n",
    "\n",
    "#### Lista de Herramientas\n",
    "* Alicate\n",
    "* Destornillador\n",
    "* Segueta\n",
    "\n",
    "#### Receta para el Arroz\n",
    "1. Ponga una olla a fuego bajo\n",
    "2. Agregue x cantidad de agua\n",
    "3. Agregue x/2 cantidad de arroz\n",
    "    1. Agregue sal al gusto\n",
    "    2. Agregue aceite"
   ]
  },
  {
   "cell_type": "code",
   "execution_count": null,
   "id": "9cb27158",
   "metadata": {},
   "outputs": [],
   "source": []
  },
  {
   "cell_type": "markdown",
   "id": "db23c359",
   "metadata": {},
   "source": [
    "## Imágenes y Enlaces\n",
    "\n",
    "\n",
    "`![alt_text](img/zoro.jpg)`<br>\n",
    "<img src=\"img/zoro.jpg\" alt=\"dibujo\" style=\"max-height:300px\">\n",
    "\n",
    "`[Ir a google](https://www.google.com/)`<br>\n",
    "<a href=\"https://www.google.com/\">Ir a Google<a/>\n",
    "    \n",
    "[Ir a estilos](#Estilos)\n",
    "<br>\n",
    "[Ir a encabezados](#Encabezados)"
   ]
  },
  {
   "cell_type": "markdown",
   "id": "b6f38ac1",
   "metadata": {},
   "source": [
    "## LaTeX\n",
    "\n",
    "Quiero representar la ecuación $y = mx + b$:\n",
    "<br>\n",
    "$$y = mx + b$$\n",
    "<br>\n",
    "$$\\eta = \\frac{P_{out}}{P_{in}}$$\n",
    "<br>\n",
    "$$\\sum_{i = 1}^{\\infty}{\\frac{1}{i}}$$\n",
    "\n",
    "$$e^{-jx} = \\cos{x} - j\\sin{x}$$\n",
    "\n",
    "$$\\sqrt{a^2 + b^2}$$\n",
    "\n",
    "$\\alpha, \\beta, \\gamma$"
   ]
  },
  {
   "cell_type": "markdown",
   "id": "52ee0ff3",
   "metadata": {},
   "source": [
    "# Python"
   ]
  },
  {
   "cell_type": "markdown",
   "id": "6a365611",
   "metadata": {},
   "source": [
    "## Comentarios\n",
    "\n",
    "Código que no se ejecuta. `#`\n",
    "- Contexto\n",
    "- Legibilidad\n",
    "- Pruebas"
   ]
  },
  {
   "cell_type": "code",
   "execution_count": 12,
   "id": "ee7b0437",
   "metadata": {},
   "outputs": [],
   "source": [
    "# Este es un comentario en Python"
   ]
  },
  {
   "cell_type": "markdown",
   "id": "d377b6fe",
   "metadata": {},
   "source": [
    "## Print\n",
    "Mostrar en consola\n",
    "`print()`"
   ]
  },
  {
   "cell_type": "code",
   "execution_count": 13,
   "id": "6ed2dfee",
   "metadata": {},
   "outputs": [
    {
     "name": "stdout",
     "output_type": "stream",
     "text": [
      "Hola Mundo\n",
      "This is a 'test'\n",
      "This is a \"test\"\n"
     ]
    }
   ],
   "source": [
    "print(\"Hola Mundo\")\n",
    "print(\"This is a 'test'\")\n",
    "print(\"This is a \\\"test\\\"\")"
   ]
  },
  {
   "cell_type": "markdown",
   "id": "28b76df7",
   "metadata": {},
   "source": [
    "## Strings\n",
    "Se crean con `' '` o `\" \"`."
   ]
  },
  {
   "cell_type": "code",
   "execution_count": 14,
   "id": "3dd8309f",
   "metadata": {},
   "outputs": [
    {
     "name": "stdout",
     "output_type": "stream",
     "text": [
      "<class 'str'>\n",
      "<class 'str'>\n"
     ]
    }
   ],
   "source": [
    "a = 'perro'\n",
    "b = \"gato\"\n",
    "print(type(a))\n",
    "print(type(b))"
   ]
  },
  {
   "cell_type": "markdown",
   "id": "af2f0d47",
   "metadata": {},
   "source": [
    "## Variables\n",
    "- Contenedores\n",
    "- snake_case -> python\n",
    "- camelCase -> JS"
   ]
  },
  {
   "cell_type": "markdown",
   "id": "eeaa9d97",
   "metadata": {},
   "source": [
    "## Numbers\n",
    "- int\n",
    "- float\n",
    "- operaciones: +, -, *, /, ** (potencia), % (module)"
   ]
  },
  {
   "cell_type": "code",
   "execution_count": 19,
   "id": "1f4bd6f9",
   "metadata": {},
   "outputs": [
    {
     "name": "stdout",
     "output_type": "stream",
     "text": [
      "7.5\n",
      "-1.5\n",
      "13.5\n",
      "0.6666666666666666\n",
      "140.29611541307906\n",
      "3.0\n"
     ]
    }
   ],
   "source": [
    "a = 3\n",
    "b = 4.5\n",
    "print(a + b)\n",
    "print(a - b)\n",
    "print(a * b)\n",
    "print(a / b)\n",
    "print(a ** b)\n",
    "print(a % b)"
   ]
  },
  {
   "cell_type": "code",
   "execution_count": 20,
   "id": "d6fc066c",
   "metadata": {},
   "outputs": [
    {
     "name": "stdout",
     "output_type": "stream",
     "text": [
      "2.0\n"
     ]
    }
   ],
   "source": [
    "a += 3\n",
    "a -= 5\n",
    "a *= 4\n",
    "a /= 2\n",
    "print(a)"
   ]
  },
  {
   "cell_type": "markdown",
   "id": "971f5e63",
   "metadata": {},
   "source": [
    "## Concatenate\n",
    "- Unir palabras (simplemente sumar)\n",
    "- Concatenar del mismo tipo."
   ]
  },
  {
   "cell_type": "code",
   "execution_count": 21,
   "id": "f3da5eae",
   "metadata": {},
   "outputs": [
    {
     "name": "stdout",
     "output_type": "stream",
     "text": [
      "Miguel Ortiz\n"
     ]
    }
   ],
   "source": [
    "name = \"Miguel\"\n",
    "lastname = \"Ortiz\"\n",
    "fullname = name + ' ' + lastname\n",
    "print(fullname)"
   ]
  },
  {
   "cell_type": "code",
   "execution_count": 27,
   "id": "09b835b6",
   "metadata": {},
   "outputs": [
    {
     "name": "stdout",
     "output_type": "stream",
     "text": [
      "My age is 30 years old.\n"
     ]
    }
   ],
   "source": [
    "age = 30\n",
    "opening = \"My age is \"\n",
    "ending = \" years old.\"\n",
    "full_sentence = opening + str(age) + ending\n",
    "print(full_sentence)"
   ]
  },
  {
   "cell_type": "code",
   "execution_count": 28,
   "id": "820c29d9",
   "metadata": {},
   "outputs": [
    {
     "name": "stdout",
     "output_type": "stream",
     "text": [
      "\n",
      "Me gusta cuando callas porque estás como ausente,\n",
      "y me oyes desde lejos, y mi voz no tetoca.\n",
      "Parece que los ojos se te hubieran volado\n",
      "y parece que un beso te cerrara la boca.\n",
      "\n"
     ]
    }
   ],
   "source": [
    "poem = \"\"\"\n",
    "Me gusta cuando callas porque estás como ausente,\n",
    "y me oyes desde lejos, y mi voz no tetoca.\n",
    "Parece que los ojos se te hubieran volado\n",
    "y parece que un beso te cerrara la boca.\n",
    "\"\"\"\n",
    "print(poem)"
   ]
  },
  {
   "cell_type": "code",
   "execution_count": 30,
   "id": "8ccc2894",
   "metadata": {},
   "outputs": [
    {
     "name": "stdout",
     "output_type": "stream",
     "text": [
      " -:-  -:-  -:-  -:-  -:-  -:-  -:-  -:-  -:-  -:- \n"
     ]
    }
   ],
   "source": [
    "print(\" -:- \"*10)"
   ]
  },
  {
   "cell_type": "markdown",
   "id": "5ab007fe",
   "metadata": {},
   "source": [
    "# Boolean Sentences\n",
    "- Opinión: no objetivas - varias alternativas. Ej: El helado más rico del mundo es el de chocolate. \n",
    "- Oración (sentences): dos opciones - verdadero `(True)` o falso `(False)`. La palabra \"helado\" comienza con la letra \"h\".\n",
    "- ==, !=, <, >, >=, <="
   ]
  },
  {
   "cell_type": "code",
   "execution_count": 35,
   "id": "0528501f",
   "metadata": {},
   "outputs": [
    {
     "name": "stdout",
     "output_type": "stream",
     "text": [
      "<class 'bool'>\n",
      "False\n",
      "False\n",
      "False\n"
     ]
    }
   ],
   "source": [
    "a = 1 == 0\n",
    "print(type(a))\n",
    "print(9 == '9')\n",
    "print(3 > 5)\n",
    "print(10 <= 5)"
   ]
  },
  {
   "cell_type": "markdown",
   "id": "b86632ce",
   "metadata": {},
   "source": [
    "## Condicionales\n",
    "\n",
    "```python\n",
    "# if\n",
    "if boolean_sentence:\n",
    "    action\n",
    "    \n",
    "# else\n",
    "if boolean_sentence:\n",
    "    action_1\n",
    "else:\n",
    "    action_2\n",
    "    \n",
    "# elif    \n",
    "if boolean_sentence_1:\n",
    "    action_1\n",
    "elif boolean_sentence_2:\n",
    "    action_2\n",
    "else:\n",
    "    action_3\n",
    "```\n",
    "\n"
   ]
  },
  {
   "cell_type": "code",
   "execution_count": 38,
   "id": "4d958556",
   "metadata": {},
   "outputs": [
    {
     "name": "stdout",
     "output_type": "stream",
     "text": [
      "a es mayor que b\n"
     ]
    }
   ],
   "source": [
    "a = 5\n",
    "b = 4\n",
    "if a > b:\n",
    "    print(\"a es mayor que b\")"
   ]
  },
  {
   "cell_type": "code",
   "execution_count": 43,
   "id": "c1c2b694",
   "metadata": {},
   "outputs": [
    {
     "name": "stdout",
     "output_type": "stream",
     "text": [
      "b es mayor que a\n"
     ]
    }
   ],
   "source": [
    "a = 3\n",
    "b = 4\n",
    "if a > b:\n",
    "    print(\"a es mayor que b\")\n",
    "else:\n",
    "    print(\"b es mayor que a\")"
   ]
  },
  {
   "cell_type": "code",
   "execution_count": 42,
   "id": "05d28dda",
   "metadata": {},
   "outputs": [
    {
     "name": "stdout",
     "output_type": "stream",
     "text": [
      "b es mayor que a\n"
     ]
    }
   ],
   "source": [
    "a = 3\n",
    "b = 4\n",
    "if a > b:\n",
    "    print(\"a es mayor que b\")\n",
    "else:\n",
    "    if b > a:\n",
    "        print(\"b es mayor que a\")\n",
    "    # else:\n",
    "    #    if ...."
   ]
  },
  {
   "cell_type": "code",
   "execution_count": 47,
   "id": "c0abc1bc",
   "metadata": {},
   "outputs": [
    {
     "name": "stdout",
     "output_type": "stream",
     "text": [
      "Bueno\n"
     ]
    }
   ],
   "source": [
    "grade = ''\n",
    "points = 70\n",
    "if points > 90:\n",
    "    grade = \"Excelente\"\n",
    "elif points > 75:\n",
    "    grade = \"Sobresaliente\"\n",
    "elif points > 60:\n",
    "    grade = \"Bueno\"\n",
    "elif points > 50:\n",
    "    grade = \"Regular\"\n",
    "else:\n",
    "    grade = \"Malo\"\n",
    "print(grade)"
   ]
  },
  {
   "cell_type": "markdown",
   "id": "67ac5e5d",
   "metadata": {},
   "source": [
    "## Boolean Operators\n",
    "- and: verdadero si ambas expresiones son ciertas. Falso, si no.\n",
    "- or: verdadero si por lo menos una da las sentencias es verdadera.\n",
    "- not: negar. Verdadero -> Falso; Falso -> Verdadero"
   ]
  },
  {
   "cell_type": "code",
   "execution_count": 48,
   "id": "6e2bf4e2",
   "metadata": {},
   "outputs": [
    {
     "name": "stdout",
     "output_type": "stream",
     "text": [
      "False\n",
      "True\n",
      "True\n"
     ]
    }
   ],
   "source": [
    "sentence_1 = 3 > 5\n",
    "sentence_2 = 5 == 5\n",
    "print(sentence_1 and sentence_2)\n",
    "print(sentence_1 or sentence_2)\n",
    "print(not sentence_1)"
   ]
  },
  {
   "cell_type": "markdown",
   "id": "b0ce5106",
   "metadata": {},
   "source": [
    "## User inputs\n",
    "- `input()`"
   ]
  },
  {
   "cell_type": "code",
   "execution_count": 49,
   "id": "b253957d",
   "metadata": {},
   "outputs": [
    {
     "name": "stdout",
     "output_type": "stream",
     "text": [
      "Ingrese su nombre: Miguel\n",
      "Ingrese su apellido: Ortiz\n",
      "Su nombre completo es: Miguel Ortiz\n"
     ]
    }
   ],
   "source": [
    "name = input(\"Ingrese su nombre: \")\n",
    "lastname = input(\"Ingrese su apellido: \")\n",
    "print(\"Su nombre completo es: \" + name + ' ' + lastname)"
   ]
  },
  {
   "cell_type": "code",
   "execution_count": 54,
   "id": "9d1bca5f",
   "metadata": {},
   "outputs": [
    {
     "name": "stdout",
     "output_type": "stream",
     "text": [
      "¿Cuál es tu edad? 30\n",
      "Tu año de nacimiento es el 1992\n"
     ]
    }
   ],
   "source": [
    "current_year = 2022\n",
    "age = input(\"¿Cuál es tu edad? \")\n",
    "#birth_year = current_year - int(age) # float(age)\n",
    "print(\"Tu año de nacimiento es el \" + str(current_year - int(age)))"
   ]
  },
  {
   "cell_type": "markdown",
   "id": "40b1cf83",
   "metadata": {},
   "source": [
    "## Errors\n",
    "- SyntaxError: puntos (:), paréntesis, corchete, llave\n",
    "- NameError: no se reconoce la palabra, variable sin definir, variable mal escrita\n",
    "- TypeError: operaciones con tipos inadecuados\n",
    "\n",
    "Python no decta **errores de lógica**"
   ]
  },
  {
   "cell_type": "code",
   "execution_count": null,
   "id": "0a76729a",
   "metadata": {},
   "outputs": [],
   "source": []
  }
 ],
 "metadata": {
  "kernelspec": {
   "display_name": "Python 3 (ipykernel)",
   "language": "python",
   "name": "python3"
  },
  "language_info": {
   "codemirror_mode": {
    "name": "ipython",
    "version": 3
   },
   "file_extension": ".py",
   "mimetype": "text/x-python",
   "name": "python",
   "nbconvert_exporter": "python",
   "pygments_lexer": "ipython3",
   "version": "3.9.12"
  }
 },
 "nbformat": 4,
 "nbformat_minor": 5
}
