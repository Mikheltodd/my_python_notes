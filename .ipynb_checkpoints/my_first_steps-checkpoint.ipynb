{
 "cells": [
  {
   "cell_type": "markdown",
   "id": "58816bdb",
   "metadata": {},
   "source": [
    "# My First Steps"
   ]
  },
  {
   "cell_type": "markdown",
   "id": "359c36fc",
   "metadata": {},
   "source": [
    "Anotaciones previas:\n",
    "\n",
    "## Bash:\n",
    "\n",
    "- `ls`: listar\n",
    "- `mkdir`: crear directorio\n",
    "- `cd`: cambiar directorio\n",
    "- `echo`: crear archivo\n",
    "\n",
    "- `cat`: leer archivo"
   ]
  },
  {
   "cell_type": "markdown",
   "id": "8d5e893e",
   "metadata": {},
   "source": [
    "## Encabezados\n",
    "\n",
    "Se crean con `#` y hay 6 niveles.\n",
    "\n",
    "### Título 3\n",
    "#### Título 4\n",
    "##### Título 5"
   ]
  },
  {
   "cell_type": "markdown",
   "id": "cfa57282",
   "metadata": {},
   "source": [
    "## Estilos\n",
    "\n",
    "***\n",
    "*Me gusta* cuando callas porque _estás como ausente_, <br>\n",
    "y me **oyes** desde lejos, y mi __voz__ no te toca.<br>\n",
    "***\n",
    "Parece que los `ojos` se te hubieran volado <br>\n",
    "y parece que un beso te cerrara la boca.\n",
    "<br>\n",
    "```python\n",
    "x = 3\n",
    "y = x + 2\n",
    "print(y)\n",
    "```\n",
    "\n",
    "> Esta es una citación:\n",
    "> Me gusta* cuando callas porque _estás como ausente_\n"
   ]
  },
  {
   "cell_type": "markdown",
   "id": "d73f212e",
   "metadata": {},
   "source": [
    "## Listas\n",
    "\n",
    "#### Lista de Compras\n",
    "- Pan\n",
    "- Leche\n",
    "- Huevos\n",
    "    - AA x30\n",
    "    - AAA x12\n",
    "\n",
    "#### Lista de Herramientas\n",
    "* Alicate\n",
    "* Destornillador\n",
    "* Segueta\n",
    "\n",
    "#### Receta para el Arroz\n",
    "1. Ponga una olla a fuego bajo\n",
    "2. Agregue x cantidad de agua\n",
    "3. Agregue x/2 cantidad de arroz\n",
    "    1. Agregue sal al gusto\n",
    "    2. Agregue aceite"
   ]
  },
  {
   "cell_type": "code",
   "execution_count": null,
   "id": "fdcea9a5",
   "metadata": {},
   "outputs": [],
   "source": []
  },
  {
   "cell_type": "code",
   "execution_count": null,
   "id": "0ab846cc",
   "metadata": {},
   "outputs": [],
   "source": []
  },
  {
   "cell_type": "code",
   "execution_count": null,
   "id": "d4497f92",
   "metadata": {},
   "outputs": [],
   "source": []
  },
  {
   "cell_type": "code",
   "execution_count": null,
   "id": "995bba45",
   "metadata": {},
   "outputs": [],
   "source": []
  },
  {
   "cell_type": "code",
   "execution_count": null,
   "id": "cf25fb7e",
   "metadata": {},
   "outputs": [],
   "source": []
  },
  {
   "cell_type": "code",
   "execution_count": null,
   "id": "40b30ac5",
   "metadata": {},
   "outputs": [],
   "source": []
  },
  {
   "cell_type": "code",
   "execution_count": null,
   "id": "1a46527e",
   "metadata": {},
   "outputs": [],
   "source": []
  },
  {
   "cell_type": "code",
   "execution_count": null,
   "id": "bb3ade8e",
   "metadata": {},
   "outputs": [],
   "source": []
  },
  {
   "cell_type": "code",
   "execution_count": null,
   "id": "a436cbc5",
   "metadata": {},
   "outputs": [],
   "source": []
  },
  {
   "cell_type": "code",
   "execution_count": null,
   "id": "9cb27158",
   "metadata": {},
   "outputs": [],
   "source": []
  },
  {
   "cell_type": "markdown",
   "id": "db23c359",
   "metadata": {},
   "source": [
    "## Imágenes y Enlaces\n",
    "\n",
    "\n",
    "`![alt_text](img/zoro.jpg)`<br>\n",
    "<img src=\"img/zoro.jpg\" alt=\"dibujo\" style=\"max-height:300px\">\n",
    "\n",
    "`[Ir a google](https://www.google.com/)`<br>\n",
    "<a href=\"https://www.google.com/\">Ir a Google<a/>\n",
    "    \n",
    "[Ir a estilos](#Estilos)\n",
    "<br>\n",
    "[Ir a encabezados](#Encabezados)"
   ]
  },
  {
   "cell_type": "markdown",
   "id": "b6f38ac1",
   "metadata": {},
   "source": [
    "## LaTeX\n",
    "\n",
    "Quiero representar la ecuación $y = mx + b$:\n",
    "<br>\n",
    "$$y = mx + b$$\n",
    "<br>\n",
    "$$\\eta = \\frac{P_{out}}{P_{in}}$$\n",
    "<br>\n",
    "$$\\sum_{i = 1}^{\\infty}{\\frac{1}{i}}$$\n",
    "\n",
    "$$e^{-jx} = \\cos{x} - j\\sin{x}$$\n",
    "\n",
    "$$\\sqrt{a^2 + b^2}$$\n",
    "\n",
    "$\\alpha, \\beta, \\gamma$"
   ]
  },
  {
   "cell_type": "code",
   "execution_count": null,
   "id": "f5e62cf4",
   "metadata": {},
   "outputs": [],
   "source": []
  }
 ],
 "metadata": {
  "kernelspec": {
   "display_name": "Python 3 (ipykernel)",
   "language": "python",
   "name": "python3"
  },
  "language_info": {
   "codemirror_mode": {
    "name": "ipython",
    "version": 3
   },
   "file_extension": ".py",
   "mimetype": "text/x-python",
   "name": "python",
   "nbconvert_exporter": "python",
   "pygments_lexer": "ipython3",
   "version": "3.9.12"
  }
 },
 "nbformat": 4,
 "nbformat_minor": 5
}
