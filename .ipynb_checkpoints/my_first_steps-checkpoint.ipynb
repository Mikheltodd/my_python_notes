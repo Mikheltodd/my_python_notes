{
 "cells": [
  {
   "cell_type": "markdown",
   "id": "58816bdb",
   "metadata": {},
   "source": [
    "# My First Steps"
   ]
  },
  {
   "cell_type": "markdown",
   "id": "359c36fc",
   "metadata": {},
   "source": [
    "Anotaciones previas:\n",
    "\n",
    "## Bash:\n",
    "\n",
    "- `ls`: listar\n",
    "- `mkdir`: crear directorio\n",
    "- `cd`: cambiar directorio\n",
    "- `echo`: crear archivo\n",
    "\n",
    "- `cat`: leer archivo"
   ]
  },
  {
   "cell_type": "markdown",
   "id": "8d5e893e",
   "metadata": {},
   "source": [
    "## Encabezados\n",
    "\n",
    "Se crean con `#` y hay 6 niveles.\n",
    "\n",
    "### Título 3\n",
    "#### Título 4\n",
    "##### Título 5"
   ]
  },
  {
   "cell_type": "markdown",
   "id": "cfa57282",
   "metadata": {},
   "source": [
    "## Estilos\n",
    "\n",
    "***\n",
    "*Me gusta* cuando callas porque _estás como ausente_, <br>\n",
    "y me **oyes** desde lejos, y mi __voz__ no te toca.<br>\n",
    "***\n",
    "Parece que los `ojos` se te hubieran volado <br>\n",
    "y parece que un beso te cerrara la boca.\n",
    "<br>\n",
    "```python\n",
    "x = 3\n",
    "y = x + 2\n",
    "print(y)\n",
    "```\n",
    "\n",
    "> Esta es una citación:\n",
    "> Me gusta* cuando callas porque _estás como ausente_\n"
   ]
  },
  {
   "cell_type": "markdown",
   "id": "d73f212e",
   "metadata": {},
   "source": [
    "## Listas\n",
    "\n",
    "#### Lista de Compras\n",
    "- Pan\n",
    "- Leche\n",
    "- Huevos\n",
    "    - AA x30\n",
    "    - AAA x12\n",
    "\n",
    "#### Lista de Herramientas\n",
    "* Alicate\n",
    "* Destornillador\n",
    "* Segueta\n",
    "\n",
    "#### Receta para el Arroz\n",
    "1. Ponga una olla a fuego bajo\n",
    "2. Agregue x cantidad de agua\n",
    "3. Agregue x/2 cantidad de arroz\n",
    "    1. Agregue sal al gusto\n",
    "    2. Agregue aceite"
   ]
  },
  {
   "cell_type": "code",
   "execution_count": null,
   "id": "9cb27158",
   "metadata": {},
   "outputs": [],
   "source": []
  },
  {
   "cell_type": "markdown",
   "id": "db23c359",
   "metadata": {},
   "source": [
    "## Imágenes y Enlaces\n",
    "\n",
    "\n",
    "`![alt_text](img/zoro.jpg)`<br>\n",
    "<img src=\"img/zoro.jpg\" alt=\"dibujo\" style=\"max-height:300px\">\n",
    "\n",
    "`[Ir a google](https://www.google.com/)`<br>\n",
    "<a href=\"https://www.google.com/\">Ir a Google<a/>\n",
    "    \n",
    "[Ir a estilos](#Estilos)\n",
    "<br>\n",
    "[Ir a encabezados](#Encabezados)"
   ]
  },
  {
   "cell_type": "markdown",
   "id": "b6f38ac1",
   "metadata": {},
   "source": [
    "## LaTeX\n",
    "\n",
    "Quiero representar la ecuación $y = mx + b$:\n",
    "<br>\n",
    "$$y = mx + b$$\n",
    "<br>\n",
    "$$\\eta = \\frac{P_{out}}{P_{in}}$$\n",
    "<br>\n",
    "$$\\sum_{i = 1}^{\\infty}{\\frac{1}{i}}$$\n",
    "\n",
    "$$e^{-jx} = \\cos{x} - j\\sin{x}$$\n",
    "\n",
    "$$\\sqrt{a^2 + b^2}$$\n",
    "\n",
    "$\\alpha, \\beta, \\gamma$"
   ]
  },
  {
   "cell_type": "markdown",
   "id": "52ee0ff3",
   "metadata": {},
   "source": [
    "# Python"
   ]
  },
  {
   "cell_type": "markdown",
   "id": "6a365611",
   "metadata": {},
   "source": [
    "## Comentarios\n",
    "\n",
    "Código que no se ejecuta. `#`\n",
    "- Contexto\n",
    "- Legibilidad\n",
    "- Pruebas"
   ]
  },
  {
   "cell_type": "code",
   "execution_count": 12,
   "id": "ee7b0437",
   "metadata": {},
   "outputs": [],
   "source": [
    "# Este es un comentario en Python"
   ]
  },
  {
   "cell_type": "markdown",
   "id": "d377b6fe",
   "metadata": {},
   "source": [
    "## Print\n",
    "Mostrar en consola\n",
    "`print()`"
   ]
  },
  {
   "cell_type": "code",
   "execution_count": 13,
   "id": "6ed2dfee",
   "metadata": {},
   "outputs": [
    {
     "name": "stdout",
     "output_type": "stream",
     "text": [
      "Hola Mundo\n",
      "This is a 'test'\n",
      "This is a \"test\"\n"
     ]
    }
   ],
   "source": [
    "print(\"Hola Mundo\")\n",
    "print(\"This is a 'test'\")\n",
    "print(\"This is a \\\"test\\\"\")"
   ]
  },
  {
   "cell_type": "markdown",
   "id": "28b76df7",
   "metadata": {},
   "source": [
    "## Strings\n",
    "Se crean con `' '` o `\" \"`."
   ]
  },
  {
   "cell_type": "code",
   "execution_count": 14,
   "id": "3dd8309f",
   "metadata": {},
   "outputs": [
    {
     "name": "stdout",
     "output_type": "stream",
     "text": [
      "<class 'str'>\n",
      "<class 'str'>\n"
     ]
    }
   ],
   "source": [
    "a = 'perro'\n",
    "b = \"gato\"\n",
    "print(type(a))\n",
    "print(type(b))"
   ]
  },
  {
   "cell_type": "markdown",
   "id": "af2f0d47",
   "metadata": {},
   "source": [
    "## Variables\n",
    "- Contenedores\n",
    "- snake_case -> python\n",
    "- camelCase -> JS"
   ]
  },
  {
   "cell_type": "markdown",
   "id": "eeaa9d97",
   "metadata": {},
   "source": [
    "## Numbers\n",
    "- int\n",
    "- float\n",
    "- operaciones: +, -, *, /, ** (potencia), % (module)"
   ]
  },
  {
   "cell_type": "code",
   "execution_count": 15,
   "id": "1f4bd6f9",
   "metadata": {},
   "outputs": [
    {
     "name": "stdout",
     "output_type": "stream",
     "text": [
      "7.5\n",
      "-1.5\n",
      "13.5\n",
      "0.6666666666666666\n",
      "140.29611541307906\n",
      "3.0\n"
     ]
    }
   ],
   "source": [
    "a = 3\n",
    "b = 4.5\n",
    "print(a + b)\n",
    "print(a - b)\n",
    "print(a * b)\n",
    "print(a / b)\n",
    "print(a ** b)\n",
    "print(a % b)"
   ]
  },
  {
   "cell_type": "code",
   "execution_count": 16,
   "id": "d6fc066c",
   "metadata": {},
   "outputs": [
    {
     "name": "stdout",
     "output_type": "stream",
     "text": [
      "2.0\n"
     ]
    }
   ],
   "source": [
    "a += 3\n",
    "a -= 5\n",
    "a *= 4\n",
    "a /= 2\n",
    "print(a)"
   ]
  },
  {
   "cell_type": "markdown",
   "id": "971f5e63",
   "metadata": {},
   "source": [
    "## Concatenate\n",
    "- Unir palabras (simplemente sumar)\n",
    "- Concatenar del mismo tipo."
   ]
  },
  {
   "cell_type": "code",
   "execution_count": 17,
   "id": "f3da5eae",
   "metadata": {},
   "outputs": [
    {
     "name": "stdout",
     "output_type": "stream",
     "text": [
      "Miguel Ortiz\n"
     ]
    }
   ],
   "source": [
    "name = \"Miguel\"\n",
    "lastname = \"Ortiz\"\n",
    "fullname = name + ' ' + lastname\n",
    "print(fullname)"
   ]
  },
  {
   "cell_type": "code",
   "execution_count": 18,
   "id": "09b835b6",
   "metadata": {},
   "outputs": [
    {
     "name": "stdout",
     "output_type": "stream",
     "text": [
      "My age is 30 years old.\n"
     ]
    }
   ],
   "source": [
    "age = 30\n",
    "opening = \"My age is \"\n",
    "ending = \" years old.\"\n",
    "full_sentence = opening + str(age) + ending\n",
    "print(full_sentence)"
   ]
  },
  {
   "cell_type": "code",
   "execution_count": 19,
   "id": "820c29d9",
   "metadata": {},
   "outputs": [
    {
     "name": "stdout",
     "output_type": "stream",
     "text": [
      "\n",
      "Me gusta cuando callas porque estás como ausente,\n",
      "y me oyes desde lejos, y mi voz no tetoca.\n",
      "Parece que los ojos se te hubieran volado\n",
      "y parece que un beso te cerrara la boca.\n",
      "\n"
     ]
    }
   ],
   "source": [
    "poem = \"\"\"\n",
    "Me gusta cuando callas porque estás como ausente,\n",
    "y me oyes desde lejos, y mi voz no tetoca.\n",
    "Parece que los ojos se te hubieran volado\n",
    "y parece que un beso te cerrara la boca.\n",
    "\"\"\"\n",
    "print(poem)"
   ]
  },
  {
   "cell_type": "code",
   "execution_count": 20,
   "id": "8ccc2894",
   "metadata": {},
   "outputs": [
    {
     "name": "stdout",
     "output_type": "stream",
     "text": [
      " -:-  -:-  -:-  -:-  -:-  -:-  -:-  -:-  -:-  -:- \n"
     ]
    }
   ],
   "source": [
    "print(\" -:- \"*10)"
   ]
  },
  {
   "cell_type": "markdown",
   "id": "5ab007fe",
   "metadata": {},
   "source": [
    "# Boolean Sentences\n",
    "- Opinión: no objetivas - varias alternativas. Ej: El helado más rico del mundo es el de chocolate. \n",
    "- Oración (sentences): dos opciones - verdadero `(True)` o falso `(False)`. La palabra \"helado\" comienza con la letra \"h\".\n",
    "- ==, !=, <, >, >=, <="
   ]
  },
  {
   "cell_type": "code",
   "execution_count": 21,
   "id": "0528501f",
   "metadata": {},
   "outputs": [
    {
     "name": "stdout",
     "output_type": "stream",
     "text": [
      "<class 'bool'>\n",
      "False\n",
      "False\n",
      "False\n"
     ]
    }
   ],
   "source": [
    "a = 1 == 0\n",
    "print(type(a))\n",
    "print(9 == '9')\n",
    "print(3 > 5)\n",
    "print(10 <= 5)"
   ]
  },
  {
   "cell_type": "markdown",
   "id": "b86632ce",
   "metadata": {},
   "source": [
    "## Condicionales\n",
    "\n",
    "```python\n",
    "# if\n",
    "if boolean_sentence:\n",
    "    action\n",
    "    \n",
    "# else\n",
    "if boolean_sentence:\n",
    "    action_1\n",
    "else:\n",
    "    action_2\n",
    "    \n",
    "# elif    \n",
    "if boolean_sentence_1:\n",
    "    action_1\n",
    "elif boolean_sentence_2:\n",
    "    action_2\n",
    "else:\n",
    "    action_3\n",
    "```\n",
    "\n"
   ]
  },
  {
   "cell_type": "code",
   "execution_count": 22,
   "id": "4d958556",
   "metadata": {},
   "outputs": [
    {
     "name": "stdout",
     "output_type": "stream",
     "text": [
      "a es mayor que b\n"
     ]
    }
   ],
   "source": [
    "a = 5\n",
    "b = 4\n",
    "if a > b:\n",
    "    print(\"a es mayor que b\")"
   ]
  },
  {
   "cell_type": "code",
   "execution_count": 23,
   "id": "c1c2b694",
   "metadata": {},
   "outputs": [
    {
     "name": "stdout",
     "output_type": "stream",
     "text": [
      "b es mayor que a\n"
     ]
    }
   ],
   "source": [
    "a = 3\n",
    "b = 4\n",
    "if a > b:\n",
    "    print(\"a es mayor que b\")\n",
    "else:\n",
    "    print(\"b es mayor que a\")"
   ]
  },
  {
   "cell_type": "code",
   "execution_count": 24,
   "id": "05d28dda",
   "metadata": {},
   "outputs": [
    {
     "name": "stdout",
     "output_type": "stream",
     "text": [
      "b es mayor que a\n"
     ]
    }
   ],
   "source": [
    "a = 3\n",
    "b = 4\n",
    "if a > b:\n",
    "    print(\"a es mayor que b\")\n",
    "else:\n",
    "    if b > a:\n",
    "        print(\"b es mayor que a\")\n",
    "    # else:\n",
    "    #    if ...."
   ]
  },
  {
   "cell_type": "code",
   "execution_count": 25,
   "id": "c0abc1bc",
   "metadata": {},
   "outputs": [
    {
     "name": "stdout",
     "output_type": "stream",
     "text": [
      "Bueno\n"
     ]
    }
   ],
   "source": [
    "grade = ''\n",
    "points = 70\n",
    "if points > 90:\n",
    "    grade = \"Excelente\"\n",
    "elif points > 75:\n",
    "    grade = \"Sobresaliente\"\n",
    "elif points > 60:\n",
    "    grade = \"Bueno\"\n",
    "elif points > 50:\n",
    "    grade = \"Regular\"\n",
    "else:\n",
    "    grade = \"Malo\"\n",
    "print(grade)"
   ]
  },
  {
   "cell_type": "markdown",
   "id": "67ac5e5d",
   "metadata": {},
   "source": [
    "## Boolean Operators\n",
    "- and: verdadero si ambas expresiones son ciertas. Falso, si no.\n",
    "- or: verdadero si por lo menos una da las sentencias es verdadera.\n",
    "- not: negar. Verdadero -> Falso; Falso -> Verdadero"
   ]
  },
  {
   "cell_type": "code",
   "execution_count": 26,
   "id": "6e2bf4e2",
   "metadata": {},
   "outputs": [
    {
     "name": "stdout",
     "output_type": "stream",
     "text": [
      "False\n",
      "True\n",
      "True\n"
     ]
    }
   ],
   "source": [
    "sentence_1 = 3 > 5\n",
    "sentence_2 = 5 == 5\n",
    "print(sentence_1 and sentence_2)\n",
    "print(sentence_1 or sentence_2)\n",
    "print(not sentence_1)"
   ]
  },
  {
   "cell_type": "markdown",
   "id": "b0ce5106",
   "metadata": {},
   "source": [
    "## User inputs\n",
    "- `input()`"
   ]
  },
  {
   "cell_type": "code",
   "execution_count": 27,
   "id": "b253957d",
   "metadata": {},
   "outputs": [
    {
     "name": "stdout",
     "output_type": "stream",
     "text": [
      "Ingrese su nombre: Miguel\n",
      "Ingrese su apellido: Ortiz\n",
      "Su nombre completo es: Miguel Ortiz\n"
     ]
    }
   ],
   "source": [
    "name = input(\"Ingrese su nombre: \")\n",
    "lastname = input(\"Ingrese su apellido: \")\n",
    "print(\"Su nombre completo es: \" + name + ' ' + lastname)"
   ]
  },
  {
   "cell_type": "code",
   "execution_count": 28,
   "id": "9d1bca5f",
   "metadata": {},
   "outputs": [
    {
     "name": "stdout",
     "output_type": "stream",
     "text": [
      "¿Cuál es tu edad? 30\n",
      "Tu año de nacimiento es el 1992\n"
     ]
    }
   ],
   "source": [
    "current_year = 2022\n",
    "age = input(\"¿Cuál es tu edad? \")\n",
    "#birth_year = current_year - int(age) # float(age)\n",
    "print(\"Tu año de nacimiento es el \" + str(current_year - int(age)))"
   ]
  },
  {
   "cell_type": "markdown",
   "id": "40b1cf83",
   "metadata": {},
   "source": [
    "## Errors\n",
    "- SyntaxError: puntos (:), paréntesis, corchete, llave\n",
    "- NameError: no se reconoce la palabra, variable sin definir, variable mal escrita\n",
    "- TypeError: operaciones con tipos inadecuados\n",
    "\n",
    "Python no decta **errores de lógica**"
   ]
  },
  {
   "cell_type": "markdown",
   "id": "23df0eb6",
   "metadata": {},
   "source": [
    "## Lists\n",
    "\n",
    "- Colección\n",
    "- Estructura de datos (primitiva)\n",
    "- Ordenada\n",
    "- Indexada cero (inicia en cero)\n",
    "- `[ , ]`"
   ]
  },
  {
   "cell_type": "code",
   "execution_count": 43,
   "id": "82275f96",
   "metadata": {},
   "outputs": [],
   "source": [
    "fruits = ['manzana', 'naranja', 'pera', 'mango', 'mandarina']\n",
    "a = ['a', 1, True, ['random', 'words']]"
   ]
  },
  {
   "cell_type": "code",
   "execution_count": 44,
   "id": "5d6dd83a",
   "metadata": {},
   "outputs": [
    {
     "name": "stdout",
     "output_type": "stream",
     "text": [
      "<class 'list'>\n",
      "['a', 1, True, ['random', 'words']]\n"
     ]
    }
   ],
   "source": [
    "print(type(fruits))\n",
    "print(a)"
   ]
  },
  {
   "cell_type": "markdown",
   "id": "60f47382",
   "metadata": {},
   "source": [
    "## Append\n",
    "- Agregar datos a una lista"
   ]
  },
  {
   "cell_type": "code",
   "execution_count": 45,
   "id": "ada9d6e0",
   "metadata": {},
   "outputs": [
    {
     "name": "stdout",
     "output_type": "stream",
     "text": [
      "['manzana', 'naranja', 'pera', 'mango', 'mandarina', 'piña']\n"
     ]
    }
   ],
   "source": [
    "fruits.append('piña')\n",
    "print(fruits)"
   ]
  },
  {
   "cell_type": "code",
   "execution_count": 46,
   "id": "41570fbb",
   "metadata": {},
   "outputs": [
    {
     "name": "stdout",
     "output_type": "stream",
     "text": [
      "[1, 2, 3, 4, 5, 6]\n"
     ]
    }
   ],
   "source": [
    "a = [1, 2, 3]\n",
    "b = [4, 5, 6]\n",
    "c = a + b\n",
    "print(c)"
   ]
  },
  {
   "cell_type": "markdown",
   "id": "f7200856",
   "metadata": {},
   "source": [
    "## Accessing Elements\n",
    "- Notación [i] -> índice.\n",
    "- Índices pueden ser positivos o negativos"
   ]
  },
  {
   "cell_type": "code",
   "execution_count": 47,
   "id": "c9cfa3a9",
   "metadata": {},
   "outputs": [
    {
     "name": "stdout",
     "output_type": "stream",
     "text": [
      "manzana\n",
      "naranja\n",
      "piña\n",
      "mandarina\n"
     ]
    }
   ],
   "source": [
    "print(fruits[0])\n",
    "print(fruits[1])\n",
    "print(fruits[-1])\n",
    "print(fruits[-2])"
   ]
  },
  {
   "cell_type": "code",
   "execution_count": 48,
   "id": "24eec933",
   "metadata": {},
   "outputs": [
    {
     "name": "stdout",
     "output_type": "stream",
     "text": [
      "['manzana', 'naranja', 'pera', 'mango', 'mandarina', 'coco']\n"
     ]
    }
   ],
   "source": [
    "fruits[-1] = 'coco'\n",
    "print(fruits)"
   ]
  },
  {
   "cell_type": "markdown",
   "id": "f75201b4",
   "metadata": {},
   "source": [
    "## Remove\n",
    "- Eliminar un elemento de la lista. \n",
    "- Valor del elemento"
   ]
  },
  {
   "cell_type": "code",
   "execution_count": 49,
   "id": "74b8c5e1",
   "metadata": {},
   "outputs": [
    {
     "name": "stdout",
     "output_type": "stream",
     "text": [
      "['manzana', 'naranja', 'mango', 'mandarina', 'coco']\n"
     ]
    }
   ],
   "source": [
    "fruits.remove('pera')\n",
    "print(fruits)"
   ]
  },
  {
   "cell_type": "code",
   "execution_count": 50,
   "id": "c46240bf",
   "metadata": {},
   "outputs": [
    {
     "name": "stdout",
     "output_type": "stream",
     "text": [
      "Tony Stark\n"
     ]
    }
   ],
   "source": [
    "superheros = [['Iron Man', 'Tony Stark'], ['Spider Man', 'Peter Parker'], ['Captain America', 'Steve Rogers']]\n",
    "name = superheros[0][1]\n",
    "print(name)"
   ]
  },
  {
   "cell_type": "markdown",
   "id": "0b259cc9",
   "metadata": {},
   "source": [
    "## Insert\n",
    "- Inserta un elemento en una lista. \n",
    "- `my_list.insert(pos, element)`"
   ]
  },
  {
   "cell_type": "code",
   "execution_count": 51,
   "id": "50b27a23",
   "metadata": {},
   "outputs": [
    {
     "data": {
      "text/plain": [
       "['manzana', 'naranja', 'mango', 'mandarina', 'coco']"
      ]
     },
     "execution_count": 51,
     "metadata": {},
     "output_type": "execute_result"
    }
   ],
   "source": [
    "fruits"
   ]
  },
  {
   "cell_type": "code",
   "execution_count": 52,
   "id": "16931cf1",
   "metadata": {},
   "outputs": [
    {
     "name": "stdout",
     "output_type": "stream",
     "text": [
      "['manzana', 'naranja', 'banana', 'mango', 'mandarina', 'coco']\n"
     ]
    }
   ],
   "source": [
    "fruits.insert(2, 'banana')\n",
    "print(fruits)"
   ]
  },
  {
   "cell_type": "code",
   "execution_count": 53,
   "id": "4b1d7b67",
   "metadata": {},
   "outputs": [
    {
     "name": "stdout",
     "output_type": "stream",
     "text": [
      "['manzana', 'naranja', 'banana', 'mango', 'fresa', 'mandarina', 'coco']\n"
     ]
    }
   ],
   "source": [
    "fruits.insert(-2, 'fresa')\n",
    "print(fruits)"
   ]
  },
  {
   "cell_type": "markdown",
   "id": "55376538",
   "metadata": {},
   "source": [
    "## Pop\n",
    "- Es similar al remove... pero utiliza índices."
   ]
  },
  {
   "cell_type": "code",
   "execution_count": 54,
   "id": "5c7622bd",
   "metadata": {},
   "outputs": [
    {
     "name": "stdout",
     "output_type": "stream",
     "text": [
      "coco\n",
      "['manzana', 'naranja', 'banana', 'mango', 'fresa', 'mandarina']\n"
     ]
    }
   ],
   "source": [
    "a = fruits.pop()\n",
    "print(a)\n",
    "print(fruits)"
   ]
  },
  {
   "cell_type": "code",
   "execution_count": 55,
   "id": "cfedcf0a",
   "metadata": {},
   "outputs": [
    {
     "name": "stdout",
     "output_type": "stream",
     "text": [
      "['manzana', 'naranja', 'banana', 'fresa', 'mandarina']\n"
     ]
    }
   ],
   "source": [
    "fruits.pop(3)\n",
    "print(fruits)"
   ]
  },
  {
   "cell_type": "markdown",
   "id": "18c78616",
   "metadata": {},
   "source": [
    "## Range & Len\n",
    "- Genera una secuencia de valores\n",
    "- El objeto generado es de tipo range, no list"
   ]
  },
  {
   "cell_type": "code",
   "execution_count": 59,
   "id": "d227ac64",
   "metadata": {},
   "outputs": [
    {
     "name": "stdout",
     "output_type": "stream",
     "text": [
      "<class 'range'>\n",
      "<class 'list'>\n",
      "[0, 1, 2, 3, 4, 5, 6, 7, 8, 9]\n"
     ]
    }
   ],
   "source": [
    "a = range(10)\n",
    "print(type(a))\n",
    "b = list(a)\n",
    "print(type(b))\n",
    "print(b)"
   ]
  },
  {
   "cell_type": "code",
   "execution_count": 60,
   "id": "ed5c2455",
   "metadata": {},
   "outputs": [
    {
     "name": "stdout",
     "output_type": "stream",
     "text": [
      "[3, 4, 5, 6, 7]\n"
     ]
    }
   ],
   "source": [
    "d = list(range(3, 8))\n",
    "print(d)"
   ]
  },
  {
   "cell_type": "code",
   "execution_count": 61,
   "id": "f16f2561",
   "metadata": {},
   "outputs": [
    {
     "name": "stdout",
     "output_type": "stream",
     "text": [
      "[1, 3, 5, 7, 9, 11, 13, 15, 17, 19]\n"
     ]
    }
   ],
   "source": [
    "e = list(range(1, 20, 2))\n",
    "print(e)"
   ]
  },
  {
   "cell_type": "code",
   "execution_count": 62,
   "id": "bcfe4847",
   "metadata": {},
   "outputs": [
    {
     "name": "stdout",
     "output_type": "stream",
     "text": [
      "10\n"
     ]
    }
   ],
   "source": [
    "len_e = len(e)\n",
    "print(len_e)"
   ]
  },
  {
   "cell_type": "code",
   "execution_count": 66,
   "id": "c8b91d4e",
   "metadata": {},
   "outputs": [
    {
     "name": "stdout",
     "output_type": "stream",
     "text": [
      "[10, 9, 8, 7, 6, 5, 4, 3, 2, 1]\n"
     ]
    }
   ],
   "source": [
    "f = list(range(10, 0, -1))\n",
    "print(f)"
   ]
  },
  {
   "cell_type": "markdown",
   "id": "b530be6b",
   "metadata": {},
   "source": [
    "## Slicing\n",
    "- Utiliza los dos puntos (:)\n",
    "- Partir la lista entre límites inferior y superior, desde el inicio hasta un índice superior, desde un índice hasta el final. "
   ]
  },
  {
   "cell_type": "code",
   "execution_count": 73,
   "id": "d629b2a0",
   "metadata": {},
   "outputs": [
    {
     "name": "stdout",
     "output_type": "stream",
     "text": [
      "['c', 'd', 'e']\n"
     ]
    }
   ],
   "source": [
    "letters = ['a', 'b', 'c', 'd', 'e', 'f', 'g']\n",
    "cde = letters[2:5]\n",
    "print(cde)"
   ]
  },
  {
   "cell_type": "code",
   "execution_count": 70,
   "id": "ce7f8e8d",
   "metadata": {},
   "outputs": [
    {
     "name": "stdout",
     "output_type": "stream",
     "text": [
      "['a', 'b', 'c']\n"
     ]
    }
   ],
   "source": [
    "first_3 = letters[:3]\n",
    "print(first_3)"
   ]
  },
  {
   "cell_type": "code",
   "execution_count": 71,
   "id": "624a962d",
   "metadata": {},
   "outputs": [
    {
     "name": "stdout",
     "output_type": "stream",
     "text": [
      "['e', 'f', 'g']\n"
     ]
    }
   ],
   "source": [
    "last_3 = letters[-3:]\n",
    "print(last_3)"
   ]
  },
  {
   "cell_type": "code",
   "execution_count": 72,
   "id": "85180c63",
   "metadata": {},
   "outputs": [
    {
     "name": "stdout",
     "output_type": "stream",
     "text": [
      "['a', 'b', 'c', 'd']\n"
     ]
    }
   ],
   "source": [
    "print(letters[:-3])"
   ]
  },
  {
   "cell_type": "markdown",
   "id": "eb73e72d",
   "metadata": {},
   "source": [
    "## Count\n",
    "- Contar la cantidad de elementos iguales al que se pasa como argumento."
   ]
  },
  {
   "cell_type": "code",
   "execution_count": 75,
   "id": "14019ecf",
   "metadata": {},
   "outputs": [
    {
     "name": "stdout",
     "output_type": "stream",
     "text": [
      "3\n",
      "0\n"
     ]
    }
   ],
   "source": [
    "nums = [1, 1, 3, 5, 6, 5, 5, 7, 8]\n",
    "fives = nums.count(5)\n",
    "twos = nums.count(2)\n",
    "print(fives)\n",
    "print(twos)"
   ]
  },
  {
   "cell_type": "markdown",
   "id": "6050d642",
   "metadata": {},
   "source": [
    "## Sorting\n",
    "- Al utilizar el método .sort() de una lista, modifico la lista\n",
    "- Al utilizar la función sorted(), creo una lista"
   ]
  },
  {
   "cell_type": "code",
   "execution_count": 82,
   "id": "6e45d2c5",
   "metadata": {},
   "outputs": [
    {
     "name": "stdout",
     "output_type": "stream",
     "text": [
      "['Jesús', 'Jeymis', 'Jimena', 'Miguel', 'Salomé', 'Santiago']\n"
     ]
    }
   ],
   "source": [
    "names = ['Salomé', 'Jesús', 'Jeymis', 'Santiago', 'Jimena', 'Miguel']\n",
    "names.sort()\n",
    "print(names)"
   ]
  },
  {
   "cell_type": "code",
   "execution_count": 83,
   "id": "9a5705d2",
   "metadata": {},
   "outputs": [
    {
     "name": "stdout",
     "output_type": "stream",
     "text": [
      "['Santiago', 'Salomé', 'Miguel', 'Jimena', 'Jeymis', 'Jesús']\n",
      "['Salomé', 'Jesús', 'Jeymis', 'Santiago', 'Jimena', 'Miguel']\n"
     ]
    }
   ],
   "source": [
    "names = ['Salomé', 'Jesús', 'Jeymis', 'Santiago', 'Jimena', 'Miguel']\n",
    "sorted_names = sorted(names, reverse=True)\n",
    "print(sorted_names)\n",
    "print(names)"
   ]
  },
  {
   "cell_type": "markdown",
   "id": "b88b30fb",
   "metadata": {},
   "source": [
    "## Tuples\n",
    "- Estructura de datos (colección)\n",
    "- Indexada cero\n",
    "- Ordenada\n",
    "- Cualquier tipo de datos\n",
    "- Datos pueden repetirse\n",
    "- `(, )`\n",
    "- Inmodificables (inmutables) -> sus valores no se pueden modificar, ni se pueden agregar o remover datos"
   ]
  },
  {
   "cell_type": "code",
   "execution_count": 84,
   "id": "1d098958",
   "metadata": {},
   "outputs": [
    {
     "name": "stdout",
     "output_type": "stream",
     "text": [
      "<class 'tuple'>\n",
      "('cat', 'dog', 'mouse')\n"
     ]
    }
   ],
   "source": [
    "animals = ('cat', 'dog', 'mouse')\n",
    "print(type(animals))\n",
    "print(animals)"
   ]
  },
  {
   "cell_type": "code",
   "execution_count": 86,
   "id": "f1f7e473",
   "metadata": {},
   "outputs": [
    {
     "data": {
      "text/plain": [
       "'cat'"
      ]
     },
     "execution_count": 86,
     "metadata": {},
     "output_type": "execute_result"
    }
   ],
   "source": [
    "animals[0]"
   ]
  },
  {
   "cell_type": "markdown",
   "id": "aa6e57f0",
   "metadata": {},
   "source": [
    "## Zip Function\n",
    "- Combinar listas"
   ]
  },
  {
   "cell_type": "code",
   "execution_count": 89,
   "id": "cb0134d3",
   "metadata": {},
   "outputs": [
    {
     "name": "stdout",
     "output_type": "stream",
     "text": [
      "[('pizza', 1.3), ('burguer', 2.5), ('hot-dog', 2), ('sandwich', 1)]\n"
     ]
    }
   ],
   "source": [
    "junk_foods = ['pizza', 'burguer', 'hot-dog', 'sandwich']\n",
    "prices = [1.3, 2.5, 2, 1]\n",
    "junk_foods_prices = list(zip(junk_foods, prices))\n",
    "print(junk_foods_prices)"
   ]
  },
  {
   "cell_type": "code",
   "execution_count": null,
   "id": "9b70c8df",
   "metadata": {},
   "outputs": [],
   "source": []
  }
 ],
 "metadata": {
  "kernelspec": {
   "display_name": "Python 3 (ipykernel)",
   "language": "python",
   "name": "python3"
  },
  "language_info": {
   "codemirror_mode": {
    "name": "ipython",
    "version": 3
   },
   "file_extension": ".py",
   "mimetype": "text/x-python",
   "name": "python",
   "nbconvert_exporter": "python",
   "pygments_lexer": "ipython3",
   "version": "3.9.12"
  }
 },
 "nbformat": 4,
 "nbformat_minor": 5
}
